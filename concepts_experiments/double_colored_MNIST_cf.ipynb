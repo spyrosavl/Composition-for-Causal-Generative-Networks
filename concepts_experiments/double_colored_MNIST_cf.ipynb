{
 "cells": [
  {
   "cell_type": "code",
   "execution_count": 1,
   "metadata": {},
   "outputs": [],
   "source": [
    "%load_ext autoreload\n",
    "%autoreload 2\n",
    "import json\n",
    "import numpy as np\n",
    "import pandas as pd\n",
    "import matplotlib.pyplot as plt\n",
    "import os\n",
    "import argparse\n",
    "import repackage\n",
    "\n",
    "import torch\n",
    "import torch.nn.functional as F\n",
    "import torch.optim as optim\n",
    "from torchvision import datasets, transforms\n",
    "from torch.optim.lr_scheduler import StepLR"
   ]
  },
  {
   "cell_type": "code",
   "execution_count": 2,
   "metadata": {},
   "outputs": [],
   "source": [
    "from experiment_utils import set_env, seed_everything\n",
    "set_env()\n",
    "from cgn_extensions.mnists.dataloaders import get_dataloaders"
   ]
  },
  {
   "cell_type": "markdown",
   "metadata": {},
   "source": [
    "# Train concept classifier for double-colored-MNIST\n",
    "We need to train:\n",
    "1. A CF for classifying the digit's color\n",
    "2. A CF for classifying the digit's shape\n",
    "3. A CF for background color"
   ]
  },
  {
   "cell_type": "markdown",
   "metadata": {},
   "source": [
    "## Load dataset"
   ]
  },
  {
   "cell_type": "code",
   "execution_count": 3,
   "metadata": {},
   "outputs": [],
   "source": [
    "dl_train, dl_test = get_dataloaders('double_colored_MNIST', batch_size=1000, workers=8)"
   ]
  },
  {
   "cell_type": "markdown",
   "metadata": {},
   "source": [
    "### Dataset size"
   ]
  },
  {
   "cell_type": "code",
   "execution_count": 4,
   "metadata": {},
   "outputs": [
    {
     "name": "stdout",
     "output_type": "stream",
     "text": [
      "Train: 50000\n",
      "Test: 10000\n"
     ]
    }
   ],
   "source": [
    "print(f\"Train: {dl_train.dataset.labels.shape[0]}\")\n",
    "print(f\"Test: {dl_test.dataset.labels.shape[0]}\")"
   ]
  },
  {
   "cell_type": "markdown",
   "metadata": {},
   "source": [
    "### Get a sample image"
   ]
  },
  {
   "cell_type": "code",
   "execution_count": 5,
   "metadata": {},
   "outputs": [],
   "source": [
    "random_idx = np.random.randint(0, dl_train.dataset.labels.shape[0])"
   ]
  },
  {
   "cell_type": "code",
   "execution_count": 6,
   "metadata": {},
   "outputs": [
    {
     "name": "stderr",
     "output_type": "stream",
     "text": [
      "Clipping input data to the valid range for imshow with RGB data ([0..1] for floats or [0..255] for integers).\n"
     ]
    },
    {
     "data": {
      "image/png": "[encoded data removed]",
      "text/plain": [
       "<Figure size 432x288 with 1 Axes>"
      ]
     },
     "metadata": {
      "needs_background": "light"
     },
     "output_type": "display_data"
    },
    {
     "name": "stdout",
     "output_type": "stream",
     "text": [
      "BG label: tensor([0.3854, 0.5716, 0.9293])\n",
      "Texture label: tensor([ 1.0043e+00,  2.5653e-01, -5.9458e-04])\n"
     ]
    }
   ],
   "source": [
    "plt.imshow(dl_train.dataset.__getitem__(random_idx)['ims'].transpose(0,1).transpose(1,2))\n",
    "label = dl_train.dataset.__getitem__(random_idx)['labels']\n",
    "plt.title(f\"Digit: {label}\")\n",
    "plt.show()\n",
    "print(f\"BG label: {dl_train.dataset.__getitem__(random_idx)['bg_labels']}\")\n",
    "print(f\"Texture label: {dl_train.dataset.__getitem__(random_idx)['texture_labels']}\")"
   ]
  },
  {
   "cell_type": "markdown",
   "metadata": {},
   "source": [
    "## Train color CF"
   ]
  },
  {
   "cell_type": "code",
   "execution_count": 17,
   "metadata": {},
   "outputs": [
    {
     "data": {
      "text/plain": [
       "device(type='cuda')"
      ]
     },
     "execution_count": 17,
     "metadata": {},
     "output_type": "execute_result"
    }
   ],
   "source": [
    "from cgn_extensions.mnists.models.mnist_color_cf import train, test, RGB_CNN\n",
    "\n",
    "# Args for training\n",
    "args = argparse.Namespace()\n",
    "args.batch_size = 1000\n",
    "args.gamma = 0.7\n",
    "args.epochs = 10\n",
    "args.lr = 0.01\n",
    "args.log_interval = 10\n",
    "args.dataset = 'double_colored_MNIST'\n",
    "\n",
    "# Data\n",
    "dl_train, dl_test = get_dataloaders(args.dataset, batch_size=args.batch_size, workers=8)\n",
    "\n",
    "# Model\n",
    "model = RGB_CNN()\n",
    "\n",
    "# Optimizer\n",
    "optimizer = optim.Adadelta(model.parameters(), lr=args.lr)\n",
    "scheduler = StepLR(optimizer, step_size=1, gamma=args.gamma)\n",
    "\n",
    "# push to device and train\n",
    "device = torch.device('cuda' if torch.cuda.is_available() else 'cpu')\n",
    "model = model.to(device)\n",
    "device"
   ]
  },
  {
   "cell_type": "code",
   "execution_count": 18,
   "metadata": {},
   "outputs": [
    {
     "name": "stdout",
     "output_type": "stream",
     "text": [
      "Train Epoch: 1 [0/50000 (0%)]\tLoss: 1.765481\n",
      "Train Epoch: 1 [10000/50000 (20%)]\tLoss: 0.941879\n",
      "Train Epoch: 1 [20000/50000 (40%)]\tLoss: 0.659872\n",
      "Train Epoch: 1 [30000/50000 (60%)]\tLoss: 0.509041\n",
      "Train Epoch: 1 [40000/50000 (80%)]\tLoss: 0.401818\n",
      "Train set: Average epoch loss: 0.6975\n",
      "\n",
      "Test set: Average loss: 0.7243\n",
      "\n",
      "Train Epoch: 2 [0/50000 (0%)]\tLoss: 0.311198\n",
      "Train Epoch: 2 [10000/50000 (20%)]\tLoss: 0.265557\n",
      "Train Epoch: 2 [20000/50000 (40%)]\tLoss: 0.239384\n",
      "Train Epoch: 2 [30000/50000 (60%)]\tLoss: 0.205464\n",
      "Train Epoch: 2 [40000/50000 (80%)]\tLoss: 0.183064\n",
      "Train set: Average epoch loss: 0.2259\n",
      "\n",
      "Test set: Average loss: 0.6366\n",
      "\n",
      "Train Epoch: 3 [0/50000 (0%)]\tLoss: 0.161527\n",
      "Train Epoch: 3 [10000/50000 (20%)]\tLoss: 0.147298\n",
      "Train Epoch: 3 [20000/50000 (40%)]\tLoss: 0.137951\n",
      "Train Epoch: 3 [30000/50000 (60%)]\tLoss: 0.124160\n",
      "Train Epoch: 3 [40000/50000 (80%)]\tLoss: 0.117503\n",
      "Train set: Average epoch loss: 0.1338\n",
      "\n",
      "Test set: Average loss: 0.6014\n",
      "\n",
      "Train Epoch: 4 [0/50000 (0%)]\tLoss: 0.112317\n",
      "Train Epoch: 4 [10000/50000 (20%)]\tLoss: 0.107837\n",
      "Train Epoch: 4 [20000/50000 (40%)]\tLoss: 0.101457\n",
      "Train Epoch: 4 [30000/50000 (60%)]\tLoss: 0.102016\n",
      "Train Epoch: 4 [40000/50000 (80%)]\tLoss: 0.091720\n",
      "Train set: Average epoch loss: 0.1009\n",
      "\n",
      "Test set: Average loss: 0.5675\n",
      "\n",
      "Train Epoch: 5 [0/50000 (0%)]\tLoss: 0.089185\n",
      "Train Epoch: 5 [10000/50000 (20%)]\tLoss: 0.089000\n",
      "Train Epoch: 5 [20000/50000 (40%)]\tLoss: 0.082378\n",
      "Train Epoch: 5 [30000/50000 (60%)]\tLoss: 0.083357\n",
      "Train Epoch: 5 [40000/50000 (80%)]\tLoss: 0.082297\n",
      "Train set: Average epoch loss: 0.0861\n",
      "\n",
      "Test set: Average loss: 0.5429\n",
      "\n",
      "Train Epoch: 6 [0/50000 (0%)]\tLoss: 0.081511\n",
      "Train Epoch: 6 [10000/50000 (20%)]\tLoss: 0.074260\n",
      "Train Epoch: 6 [20000/50000 (40%)]\tLoss: 0.077258\n",
      "Train Epoch: 6 [30000/50000 (60%)]\tLoss: 0.078551\n",
      "Train Epoch: 6 [40000/50000 (80%)]\tLoss: 0.079134\n",
      "Train set: Average epoch loss: 0.0783\n",
      "\n",
      "Test set: Average loss: 0.5227\n",
      "\n",
      "Train Epoch: 7 [0/50000 (0%)]\tLoss: 0.075035\n",
      "Train Epoch: 7 [10000/50000 (20%)]\tLoss: 0.071263\n",
      "Train Epoch: 7 [20000/50000 (40%)]\tLoss: 0.077135\n",
      "Train Epoch: 7 [30000/50000 (60%)]\tLoss: 0.075465\n",
      "Train Epoch: 7 [40000/50000 (80%)]\tLoss: 0.075721\n",
      "Train set: Average epoch loss: 0.0738\n",
      "\n",
      "Test set: Average loss: 0.5278\n",
      "\n",
      "Train Epoch: 8 [0/50000 (0%)]\tLoss: 0.075169\n",
      "Train Epoch: 8 [10000/50000 (20%)]\tLoss: 0.069852\n",
      "Train Epoch: 8 [20000/50000 (40%)]\tLoss: 0.072230\n",
      "Train Epoch: 8 [30000/50000 (60%)]\tLoss: 0.073379\n",
      "Train Epoch: 8 [40000/50000 (80%)]\tLoss: 0.066910\n",
      "Train set: Average epoch loss: 0.0708\n",
      "\n",
      "Test set: Average loss: 0.5154\n",
      "\n",
      "Train Epoch: 9 [0/50000 (0%)]\tLoss: 0.069164\n",
      "Train Epoch: 9 [10000/50000 (20%)]\tLoss: 0.068532\n",
      "Train Epoch: 9 [20000/50000 (40%)]\tLoss: 0.074094\n",
      "Train Epoch: 9 [30000/50000 (60%)]\tLoss: 0.069983\n",
      "Train Epoch: 9 [40000/50000 (80%)]\tLoss: 0.067518\n",
      "Train set: Average epoch loss: 0.0693\n",
      "\n",
      "Test set: Average loss: 0.5112\n",
      "\n",
      "Train Epoch: 10 [0/50000 (0%)]\tLoss: 0.065519\n",
      "Train Epoch: 10 [10000/50000 (20%)]\tLoss: 0.068633\n",
      "Train Epoch: 10 [20000/50000 (40%)]\tLoss: 0.068991\n",
      "Train Epoch: 10 [30000/50000 (60%)]\tLoss: 0.068451\n",
      "Train Epoch: 10 [40000/50000 (80%)]\tLoss: 0.068084\n",
      "Train set: Average epoch loss: 0.0677\n",
      "\n",
      "Test set: Average loss: 0.5135\n",
      "\n"
     ]
    }
   ],
   "source": [
    "train_accs = dict()\n",
    "test_accs = dict()\n",
    "for epoch in range(1, args.epochs + 1):\n",
    "    train_acc = train(args, model, device, dl_train, optimizer, epoch, 'texture', max_batches=100)\n",
    "    test_acc = test(model, device, dl_test, 'texture')\n",
    "    train_accs[epoch] = train_acc\n",
    "    test_accs[epoch] = test_acc\n",
    "    scheduler.step()"
   ]
  },
  {
   "cell_type": "code",
   "execution_count": 19,
   "metadata": {},
   "outputs": [
    {
     "data": {
      "image/png": "[encoded data removed]",
      "text/plain": [
       "<Figure size 432x288 with 1 Axes>"
      ]
     },
     "metadata": {
      "needs_background": "light"
     },
     "output_type": "display_data"
    }
   ],
   "source": [
    "# Plot losses\n",
    "plt.plot(train_accs.keys(), train_accs.values())\n",
    "plt.plot(test_accs.keys(), test_accs.values())\n",
    "plt.legend(['train', 'test'])\n",
    "plt.xlabel('Epoch')\n",
    "plt.ylabel('Loss')\n",
    "plt.show()"
   ]
  },
  {
   "cell_type": "code",
   "execution_count": null,
   "metadata": {},
   "outputs": [],
   "source": [
    "# # save the final model\n",
    "# dataset_suffix = (args.dataset) if not args.combined else (args.dataset + \"_combined\")\n",
    "# dataset_suffix += \"_seed_\" + str(args.seed) if args.seed is not None else \"\"\n",
    "# save_path = f'mnists/experiments/classifier_{dataset_suffix}/weights/ckp_epoch_{args.epochs}.pth'\n",
    "# os.makedirs(os.path.dirname(save_path), exist_ok=True)\n",
    "# print('Saving model to {}'.format(save_path))\n",
    "# torch.save(model.state_dict(), save_path)"
   ]
  },
  {
   "cell_type": "markdown",
   "metadata": {},
   "source": [
    "### Make some predictions"
   ]
  },
  {
   "cell_type": "markdown",
   "metadata": {},
   "source": [
    "## Train shape CF"
   ]
  },
  {
   "cell_type": "markdown",
   "metadata": {},
   "source": [
    "## Train background CF"
   ]
  },
  {
   "cell_type": "markdown",
   "metadata": {},
   "source": []
  }
 ],
 "metadata": {
  "interpreter": {
   "hash": "c2cd83209aa77ccc6cda195793ce85b2396716d6b33506ed3886cd902c3fd47b"
  },
  "kernelspec": {
   "display_name": "Python 3.9.7 ('cgn-gpu': conda)",
   "language": "python",
   "name": "python3"
  },
  "language_info": {
   "codemirror_mode": {
    "name": "ipython",
    "version": 3
   },
   "file_extension": ".py",
   "mimetype": "text/x-python",
   "name": "python",
   "nbconvert_exporter": "python",
   "pygments_lexer": "ipython3",
   "version": "3.9.7"
  },
  "orig_nbformat": 4
 },
 "nbformat": 4,
 "nbformat_minor": 2
}
