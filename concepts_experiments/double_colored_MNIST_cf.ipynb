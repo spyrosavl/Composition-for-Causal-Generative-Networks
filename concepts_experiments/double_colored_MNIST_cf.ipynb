{
 "cells": [
  {
   "cell_type": "code",
   "execution_count": 1,
   "metadata": {},
   "outputs": [],
   "source": [
    "%load_ext autoreload\n",
    "%autoreload 2\n",
    "import json\n",
    "import numpy as np\n",
    "import pandas as pd\n",
    "import matplotlib.pyplot as plt\n",
    "import os\n",
    "import argparse\n",
    "import repackage\n",
    "\n",
    "import torch\n",
    "import torch.nn.functional as F\n",
    "import torch.optim as optim\n",
    "from torchvision import datasets, transforms\n",
    "from torch.optim.lr_scheduler import StepLR\n",
    "\n",
    "from pytorch_grad_cam import GradCAM, ScoreCAM, GradCAMPlusPlus, AblationCAM, XGradCAM, EigenCAM, FullGrad\n",
    "from pytorch_grad_cam.utils.model_targets import ClassifierOutputTarget\n",
    "from pytorch_grad_cam.utils.image import show_cam_on_image"
   ]
  },
  {
   "cell_type": "code",
   "execution_count": 2,
   "metadata": {},
   "outputs": [],
   "source": [
    "from experiment_utils import set_env, seed_everything\n",
    "set_env()\n",
    "from cgn_extensions.mnists.dataloaders import get_dataloaders"
   ]
  },
  {
   "cell_type": "markdown",
   "metadata": {},
   "source": [
    "# Train concept classifier for double-colored-MNIST\n",
    "We need to train:\n",
    "1. A CF for classifying the digit's color\n",
    "2. A CF for classifying the digit's shape\n",
    "3. A CF for background color"
   ]
  },
  {
   "cell_type": "markdown",
   "metadata": {},
   "source": [
    "## Load dataset"
   ]
  },
  {
   "cell_type": "code",
   "execution_count": 3,
   "metadata": {},
   "outputs": [],
   "source": [
    "dl_train, dl_test = get_dataloaders('double_colored_MNIST', batch_size=1000, workers=4)"
   ]
  },
  {
   "cell_type": "markdown",
   "metadata": {},
   "source": [
    "### Dataset size"
   ]
  },
  {
   "cell_type": "code",
   "execution_count": 4,
   "metadata": {},
   "outputs": [
    {
     "name": "stdout",
     "output_type": "stream",
     "text": [
      "Train: 50000\n",
      "Test: 10000\n"
     ]
    }
   ],
   "source": [
    "print(f\"Train: {dl_train.dataset.labels.shape[0]}\")\n",
    "print(f\"Test: {dl_test.dataset.labels.shape[0]}\")"
   ]
  },
  {
   "cell_type": "markdown",
   "metadata": {},
   "source": [
    "### Get a sample image"
   ]
  },
  {
   "cell_type": "code",
   "execution_count": 5,
   "metadata": {},
   "outputs": [],
   "source": [
    "random_idx = np.random.randint(0, dl_train.dataset.labels.shape[0])"
   ]
  },
  {
   "cell_type": "code",
   "execution_count": 6,
   "metadata": {},
   "outputs": [
    {
     "name": "stderr",
     "output_type": "stream",
     "text": [
      "Clipping input data to the valid range for imshow with RGB data ([0..1] for floats or [0..255] for integers).\n"
     ]
    },
    {
     "data": {
      "image/png": "[encoded data removed]",
      "text/plain": [
       "<Figure size 432x288 with 1 Axes>"
      ]
     },
     "metadata": {
      "needs_background": "light"
     },
     "output_type": "display_data"
    },
    {
     "name": "stdout",
     "output_type": "stream",
     "text": [
      "BG label: tensor([8])\n",
      "Texture label: tensor([3])\n"
     ]
    }
   ],
   "source": [
    "plt.imshow(dl_train.dataset.__getitem__(random_idx)['ims'].transpose(0,1).transpose(1,2))\n",
    "label = dl_train.dataset.__getitem__(random_idx)['labels']\n",
    "plt.title(f\"Digit: {label}\")\n",
    "plt.show()\n",
    "print(f\"BG label: {dl_train.dataset.__getitem__(random_idx)['bg_labels']}\")\n",
    "print(f\"Texture label: {dl_train.dataset.__getitem__(random_idx)['texture_labels']}\")"
   ]
  },
  {
   "cell_type": "markdown",
   "metadata": {},
   "source": [
    "## Train color CF"
   ]
  },
  {
   "cell_type": "code",
   "execution_count": 21,
   "metadata": {},
   "outputs": [
    {
     "data": {
      "text/plain": [
       "device(type='cpu')"
      ]
     },
     "execution_count": 21,
     "metadata": {},
     "output_type": "execute_result"
    }
   ],
   "source": [
    "from cgn_extensions.mnists.models.mnist_color_cf import train, test, MNIST_COLOR_CNN\n",
    "\n",
    "# Args for training\n",
    "args = argparse.Namespace()\n",
    "args.batch_size = 512\n",
    "args.epochs = 3\n",
    "args.lr = 0.1\n",
    "args.log_interval = 10\n",
    "args.dataset = 'double_colored_MNIST'\n",
    "\n",
    "# Data\n",
    "dl_train, dl_test = get_dataloaders(args.dataset, batch_size=args.batch_size, workers=4)\n",
    "\n",
    "# Model\n",
    "model = MNIST_COLOR_CNN(num_classes=10)\n",
    "\n",
    "# Optimizer\n",
    "optimizer = optim.Adadelta(model.parameters(), lr=args.lr)\n",
    "scheduler = StepLR(optimizer, step_size=2, gamma=0.7) \n",
    "\n",
    "# push to device and train\n",
    "device = torch.device('cuda' if torch.cuda.is_available() else 'cpu')\n",
    "model = model.to(device)\n",
    "device"
   ]
  },
  {
   "cell_type": "code",
   "execution_count": 22,
   "metadata": {},
   "outputs": [
    {
     "name": "stdout",
     "output_type": "stream",
     "text": [
      "Train Epoch: 1 [0/50000 (0%)]\tLoss: 2.291830\n",
      "Train Epoch: 1 [5120/50000 (10%)]\tLoss: 2.177366\n",
      "Train Epoch: 1 [10240/50000 (20%)]\tLoss: 2.107995\n",
      "Train Epoch: 1 [15360/50000 (31%)]\tLoss: 1.977944\n",
      "Train Epoch: 1 [20480/50000 (41%)]\tLoss: 1.799536\n",
      "Train Epoch: 1 [25600/50000 (51%)]\tLoss: 1.569085\n",
      "Train Epoch: 1 [30720/50000 (61%)]\tLoss: 1.383722\n",
      "Train Epoch: 1 [35840/50000 (71%)]\tLoss: 1.142452\n",
      "Train Epoch: 1 [40960/50000 (82%)]\tLoss: 0.928131\n",
      "Train Epoch: 1 [46080/50000 (92%)]\tLoss: 0.767545\n",
      "\n",
      "Train set: Average loss: 0.6971, Accuracy: 28208/50000 (56.4%)\n",
      "\n",
      "\n",
      "Test set: Average loss: 0.6533, Accuracy: 9296/10000 (92.960%)\n",
      "\n",
      "Train Epoch: 2 [0/50000 (0%)]\tLoss: 0.695524\n",
      "Train Epoch: 2 [5120/50000 (10%)]\tLoss: 0.536064\n",
      "Train Epoch: 2 [10240/50000 (20%)]\tLoss: 0.437335\n",
      "Train Epoch: 2 [15360/50000 (31%)]\tLoss: 0.403606\n",
      "Train Epoch: 2 [20480/50000 (41%)]\tLoss: 0.344089\n",
      "Train Epoch: 2 [25600/50000 (51%)]\tLoss: 0.275156\n",
      "Train Epoch: 2 [30720/50000 (61%)]\tLoss: 0.264439\n",
      "Train Epoch: 2 [35840/50000 (71%)]\tLoss: 0.221554\n",
      "Train Epoch: 2 [40960/50000 (82%)]\tLoss: 0.194216\n",
      "Train Epoch: 2 [46080/50000 (92%)]\tLoss: 0.160741\n",
      "\n",
      "Train set: Average loss: 0.1620, Accuracy: 48445/50000 (96.9%)\n",
      "\n",
      "\n",
      "Test set: Average loss: 0.1614, Accuracy: 9837/10000 (98.370%)\n",
      "\n",
      "Train Epoch: 3 [0/50000 (0%)]\tLoss: 0.157586\n",
      "Train Epoch: 3 [5120/50000 (10%)]\tLoss: 0.128290\n",
      "Train Epoch: 3 [10240/50000 (20%)]\tLoss: 0.150270\n",
      "Train Epoch: 3 [15360/50000 (31%)]\tLoss: 0.134875\n",
      "Train Epoch: 3 [20480/50000 (41%)]\tLoss: 0.118757\n",
      "Train Epoch: 3 [25600/50000 (51%)]\tLoss: 0.114485\n",
      "Train Epoch: 3 [30720/50000 (61%)]\tLoss: 0.109678\n",
      "Train Epoch: 3 [35840/50000 (71%)]\tLoss: 0.107438\n",
      "Train Epoch: 3 [40960/50000 (82%)]\tLoss: 0.088737\n",
      "Train Epoch: 3 [46080/50000 (92%)]\tLoss: 0.090441\n",
      "\n",
      "Train set: Average loss: 0.1129, Accuracy: 49388/50000 (98.8%)\n",
      "\n",
      "\n",
      "Test set: Average loss: 0.0853, Accuracy: 9913/10000 (99.130%)\n",
      "\n"
     ]
    }
   ],
   "source": [
    "train_accs = dict()\n",
    "test_accs = dict()\n",
    "for epoch in range(1, args.epochs + 1):\n",
    "    train_acc = train(args, model, device, dl_train, optimizer, epoch, 'texture') #max_batches=1000)\n",
    "    test_acc = test(model, device, dl_test, 'texture')\n",
    "    train_accs[epoch] = train_acc\n",
    "    test_accs[epoch] = test_acc\n",
    "    scheduler.step()"
   ]
  },
  {
   "cell_type": "code",
   "execution_count": 23,
   "metadata": {},
   "outputs": [
    {
     "data": {
      "image/png": "[encoded data removed]",
      "text/plain": [
       "<Figure size 432x288 with 1 Axes>"
      ]
     },
     "metadata": {
      "needs_background": "light"
     },
     "output_type": "display_data"
    }
   ],
   "source": [
    "# Plot losses\n",
    "plt.plot(train_accs.keys(), train_accs.values())\n",
    "plt.plot(test_accs.keys(), test_accs.values())\n",
    "plt.legend(['train', 'test'])\n",
    "plt.xlabel('Epoch')\n",
    "plt.ylabel('Accuracy')\n",
    "plt.show()"
   ]
  },
  {
   "cell_type": "markdown",
   "metadata": {},
   "source": [
    "### GradCam"
   ]
  },
  {
   "cell_type": "code",
   "execution_count": 69,
   "metadata": {},
   "outputs": [],
   "source": [
    "# Target layer for Grad-CAM\n",
    "target_layers = [model.model[3]]\n",
    "\n",
    "# Construct the CAM object once, and then re-use it on many images:\n",
    "cam = GradCAM(model=model, target_layers=target_layers, use_cuda=torch.cuda.is_available())\n",
    "\n",
    "# Get a random batch\n",
    "dl_train, dl_test = get_dataloaders('double_colored_MNIST', batch_size=10, workers=4)\n",
    "gradcam_data = next(iter(dl_train))\n",
    "input_tensor = gradcam_data['ims'][0].unsqueeze(0).clip(min=0, max=1).to(device)\n",
    "grayscale_cam = cam(input_tensor=input_tensor, aug_smooth=True)\n",
    "grayscale_cam = grayscale_cam[0, :]\n",
    "\n",
    "rgb_img = input_tensor.squeeze(0).transpose(0,1).transpose(1,2).to('cpu').detach().numpy()\n",
    "visualization = show_cam_on_image(rgb_img, grayscale_cam, use_rgb=False)"
   ]
  },
  {
   "cell_type": "code",
   "execution_count": 70,
   "metadata": {},
   "outputs": [
    {
     "data": {
      "text/plain": [
       "<matplotlib.image.AxesImage at 0x7f87ecb0fbb0>"
      ]
     },
     "execution_count": 70,
     "metadata": {},
     "output_type": "execute_result"
    },
    {
     "data": {
      "image/png": "[encoded data removed]",
      "text/plain": [
       "<Figure size 432x288 with 1 Axes>"
      ]
     },
     "metadata": {
      "needs_background": "light"
     },
     "output_type": "display_data"
    }
   ],
   "source": [
    "plt.imshow(rgb_img)"
   ]
  },
  {
   "cell_type": "code",
   "execution_count": 71,
   "metadata": {},
   "outputs": [
    {
     "data": {
      "text/plain": [
       "<matplotlib.image.AxesImage at 0x7f87eb8a0100>"
      ]
     },
     "execution_count": 71,
     "metadata": {},
     "output_type": "execute_result"
    },
    {
     "data": {
      "image/png": "[encoded data removed]",
      "text/plain": [
       "<Figure size 432x288 with 1 Axes>"
      ]
     },
     "metadata": {
      "needs_background": "light"
     },
     "output_type": "display_data"
    }
   ],
   "source": [
    "plt.imshow(visualization)"
   ]
  },
  {
   "cell_type": "markdown",
   "metadata": {},
   "source": [
    "### Save the model"
   ]
  },
  {
   "cell_type": "code",
   "execution_count": null,
   "metadata": {},
   "outputs": [],
   "source": [
    "# # save the model\n",
    "# dataset_suffix = (args.dataset) if not args.combined else (args.dataset + \"_combined\")\n",
    "# dataset_suffix += \"_seed_\" + str(args.seed) if args.seed is not None else \"\"\n",
    "# save_path = f'mnists/experiments/classifier_{dataset_suffix}/weights/ckp_epoch_{args.epochs}.pth'\n",
    "# os.makedirs(os.path.dirname(save_path), exist_ok=True)\n",
    "# print('Saving model to {}'.format(save_path))\n",
    "# torch.save(model.state_dict(), save_path)"
   ]
  },
  {
   "cell_type": "markdown",
   "metadata": {},
   "source": [
    "### Make some predictions"
   ]
  },
  {
   "cell_type": "markdown",
   "metadata": {},
   "source": [
    "## Train shape CF"
   ]
  },
  {
   "cell_type": "markdown",
   "metadata": {},
   "source": [
    "## Train background CF"
   ]
  },
  {
   "cell_type": "markdown",
   "metadata": {},
   "source": []
  }
 ],
 "metadata": {
  "interpreter": {
   "hash": "d833e8deb6950cf6f0d4b53652967d9c95d80363efc543afe4feefd90b76d618"
  },
  "kernelspec": {
   "display_name": "Python 3.9.7 ('cgn-cpu')",
   "language": "python",
   "name": "python3"
  },
  "language_info": {
   "codemirror_mode": {
    "name": "ipython",
    "version": 3
   },
   "file_extension": ".py",
   "mimetype": "text/x-python",
   "name": "python",
   "nbconvert_exporter": "python",
   "pygments_lexer": "ipython3",
   "version": "3.9.7"
  },
  "orig_nbformat": 4
 },
 "nbformat": 4,
 "nbformat_minor": 2
}
