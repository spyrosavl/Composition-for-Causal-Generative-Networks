{
 "cells": [
  {
   "cell_type": "code",
   "execution_count": 5,
   "metadata": {},
   "outputs": [
    {
     "name": "stdout",
     "output_type": "stream",
     "text": [
      "The autoreload extension is already loaded. To reload it, use:\n",
      "  %reload_ext autoreload\n"
     ]
    }
   ],
   "source": [
    "%load_ext autoreload\n",
    "%autoreload 2\n",
    "import json\n",
    "import numpy as np\n",
    "import pandas as pd\n",
    "import matplotlib.pyplot as plt\n",
    "import os\n",
    "import argparse\n",
    "import repackage\n",
    "\n",
    "import torch\n",
    "import torch.nn.functional as F\n",
    "import torch.optim as optim\n",
    "from torchvision import datasets, transforms\n",
    "from torch.optim.lr_scheduler import StepLR\n",
    "\n",
    "# from pytorch_grad_cam import GradCAM, ScoreCAM, GradCAMPlusPlus, AblationCAM, XGradCAM, EigenCAM, FullGrad\n",
    "# from pytorch_grad_cam.utils.model_targets import ClassifierOutputTarget\n",
    "# from pytorch_grad_cam.utils.image import show_cam_on_image"
   ]
  },
  {
   "cell_type": "code",
   "execution_count": 6,
   "metadata": {},
   "outputs": [],
   "source": [
    "from experiment_utils import set_env, seed_everything\n",
    "set_env()\n",
    "from cgn_extensions.mnists.dataloaders import get_dataloaders"
   ]
  },
  {
   "cell_type": "markdown",
   "metadata": {},
   "source": [
    "# Train concept classifier for double-colored-MNIST\n",
    "We need to train:\n",
    "1. A CF for classifying the digit's color\n",
    "2. A CF for classifying the digit's shape\n",
    "3. A CF for background color"
   ]
  },
  {
   "cell_type": "markdown",
   "metadata": {},
   "source": [
    "## Load dataset"
   ]
  },
  {
   "cell_type": "code",
   "execution_count": 7,
   "metadata": {},
   "outputs": [],
   "source": [
    "dl_train, dl_test = get_dataloaders('double_colored_MNIST', batch_size=1000, workers=4)"
   ]
  },
  {
   "cell_type": "markdown",
   "metadata": {},
   "source": [
    "### Dataset size"
   ]
  },
  {
   "cell_type": "code",
   "execution_count": 8,
   "metadata": {},
   "outputs": [
    {
     "name": "stdout",
     "output_type": "stream",
     "text": [
      "Train: 10000\n",
      "Test: 10000\n"
     ]
    }
   ],
   "source": [
    "print(f\"Train: {dl_train.dataset.labels.shape[0]}\")\n",
    "print(f\"Test: {dl_test.dataset.labels.shape[0]}\")"
   ]
  },
  {
   "cell_type": "markdown",
   "metadata": {},
   "source": [
    "### Get a sample image"
   ]
  },
  {
   "cell_type": "code",
   "execution_count": 9,
   "metadata": {},
   "outputs": [],
   "source": [
    "random_idx = np.random.randint(0, dl_train.dataset.labels.shape[0])"
   ]
  },
  {
   "cell_type": "code",
   "execution_count": 10,
   "metadata": {},
   "outputs": [
    {
     "name": "stderr",
     "output_type": "stream",
     "text": [
      "Clipping input data to the valid range for imshow with RGB data ([0..1] for floats or [0..255] for integers).\n"
     ]
    },
    {
     "data": {
      "image/png": "[encoded data removed]",
      "text/plain": [
       "<Figure size 432x288 with 1 Axes>"
      ]
     },
     "metadata": {
      "needs_background": "light"
     },
     "output_type": "display_data"
    },
    {
     "name": "stdout",
     "output_type": "stream",
     "text": [
      "BG label: tensor([0])\n",
      "Texture label: tensor([6])\n"
     ]
    }
   ],
   "source": [
    "plt.imshow(dl_train.dataset.__getitem__(random_idx)['ims'].transpose(0,1).transpose(1,2))\n",
    "label = dl_train.dataset.__getitem__(random_idx)['labels']\n",
    "plt.title(f\"Digit: {label}\")\n",
    "plt.show()\n",
    "print(f\"BG label: {dl_train.dataset.__getitem__(random_idx)['bg_labels']}\")\n",
    "print(f\"Texture label: {dl_train.dataset.__getitem__(random_idx)['texture_labels']}\")"
   ]
  },
  {
   "cell_type": "markdown",
   "metadata": {},
   "source": [
    "## Train color CF"
   ]
  },
  {
   "cell_type": "code",
   "execution_count": 11,
   "metadata": {},
   "outputs": [
    {
     "data": {
      "text/plain": [
       "device(type='cpu')"
      ]
     },
     "execution_count": 11,
     "metadata": {},
     "output_type": "execute_result"
    }
   ],
   "source": [
    "from cgn_extensions.mnists.models.mnist_color_cf import train, test, MNIST_COLOR_CNN\n",
    "\n",
    "# Args for training\n",
    "args = argparse.Namespace()\n",
    "args.batch_size = 512\n",
    "args.gamma = 0.7\n",
    "args.epochs = 10\n",
    "args.lr = 0.01\n",
    "args.log_interval = 10\n",
    "args.dataset = 'double_colored_MNIST'\n",
    "\n",
    "# Data\n",
    "dl_train, dl_test = get_dataloaders(args.dataset, batch_size=args.batch_size, workers=4)\n",
    "\n",
    "# Model\n",
    "model = MNIST_COLOR_CNN(num_classes=10)\n",
    "\n",
    "# Optimizer\n",
    "optimizer = optim.Adadelta(model.parameters(), lr=args.lr)\n",
    "scheduler = StepLR(optimizer, step_size=1, gamma=args.gamma)\n",
    "\n",
    "# push to device and train\n",
    "device = torch.device('cuda' if torch.cuda.is_available() else 'cpu')\n",
    "model = model.to(device)\n",
    "device"
   ]
  },
  {
   "cell_type": "code",
   "execution_count": 13,
   "metadata": {},
   "outputs": [
    {
     "name": "stdout",
     "output_type": "stream",
     "text": [
      "Train Epoch: 1 [0/10000 (0%)]\tLoss: 2.102597\n",
      "Train Epoch: 1 [5120/10000 (50%)]\tLoss: 2.043093\n",
      "\n",
      "Train set: Average loss: 1.9928, Accuracy: 3328/10000 (33.3%)\n",
      "\n",
      "\n",
      "Test set: Average loss: 1.9916, Accuracy: 3867/10000 (38.670%)\n",
      "\n",
      "Train Epoch: 2 [0/10000 (0%)]\tLoss: 1.988478\n",
      "Train Epoch: 2 [5120/10000 (50%)]\tLoss: 1.963446\n",
      "\n",
      "Train set: Average loss: 1.9377, Accuracy: 4096/10000 (41.0%)\n",
      "\n",
      "\n",
      "Test set: Average loss: 1.9303, Accuracy: 4579/10000 (45.790%)\n",
      "\n",
      "Train Epoch: 3 [0/10000 (0%)]\tLoss: 1.940030\n",
      "Train Epoch: 3 [5120/10000 (50%)]\tLoss: 1.909683\n",
      "\n",
      "Train set: Average loss: 1.8657, Accuracy: 4776/10000 (47.8%)\n",
      "\n"
     ]
    }
   ],
   "source": [
    "train_accs = dict()\n",
    "test_accs = dict()\n",
    "for epoch in range(1, args.epochs + 1):\n",
    "    train_acc = train(args, model, device, dl_train, optimizer, epoch, 'texture', max_batches=200)\n",
    "    test_acc = test(model, device, dl_test, 'texture')\n",
    "    train_accs[epoch] = train_acc\n",
    "    test_accs[epoch] = test_acc\n",
    "    scheduler.step()"
   ]
  },
  {
   "cell_type": "code",
   "execution_count": null,
   "metadata": {},
   "outputs": [],
   "source": [
    "# Plot losses\n",
    "plt.plot(train_accs.keys(), train_accs.values())\n",
    "plt.plot(test_accs.keys(), test_accs.values())\n",
    "plt.legend(['train', 'test'])\n",
    "plt.xlabel('Epoch')\n",
    "plt.ylabel('Accuracy')\n",
    "plt.show()"
   ]
  },
  {
   "cell_type": "markdown",
   "metadata": {},
   "source": [
    "### GradCam"
   ]
  },
  {
   "cell_type": "code",
   "execution_count": null,
   "metadata": {},
   "outputs": [],
   "source": [
    "# Target layer for Grad-CAM\n",
    "target_layers = [model.model[3]]\n",
    "\n",
    "# Construct the CAM object once, and then re-use it on many images:\n",
    "cam = GradCAM(model=model, target_layers=target_layers, use_cuda=torch.cuda.is_available())\n",
    "\n",
    "# Get a random batch\n",
    "dl_train, dl_test = get_dataloaders('double_colored_MNIST', batch_size=10, workers=4)\n",
    "gradcam_data = next(iter(dl_train))\n",
    "input_tensor = gradcam_data['ims'][0].unsqueeze(0).clip(min=0, max=1).to(device)\n",
    "grayscale_cam = cam(input_tensor=input_tensor, targets=None)\n",
    "grayscale_cam = grayscale_cam[0, :]\n",
    "\n",
    "rgb_img = input_tensor.squeeze(0).transpose(0,1).transpose(1,2).to('cpu').detach().numpy()\n",
    "visualization = show_cam_on_image(rgb_img, grayscale_cam, use_rgb=True)"
   ]
  },
  {
   "cell_type": "code",
   "execution_count": null,
   "metadata": {},
   "outputs": [],
   "source": [
    "plt.imshow(rgb_img)"
   ]
  },
  {
   "cell_type": "code",
   "execution_count": null,
   "metadata": {},
   "outputs": [],
   "source": [
    "plt.imshow(visualization)"
   ]
  },
  {
   "cell_type": "markdown",
   "metadata": {},
   "source": [
    "### Save the model"
   ]
  },
  {
   "cell_type": "code",
   "execution_count": null,
   "metadata": {},
   "outputs": [],
   "source": [
    "# # save the model\n",
    "# dataset_suffix = (args.dataset) if not args.combined else (args.dataset + \"_combined\")\n",
    "# dataset_suffix += \"_seed_\" + str(args.seed) if args.seed is not None else \"\"\n",
    "# save_path = f'mnists/experiments/classifier_{dataset_suffix}/weights/ckp_epoch_{args.epochs}.pth'\n",
    "# os.makedirs(os.path.dirname(save_path), exist_ok=True)\n",
    "# print('Saving model to {}'.format(save_path))\n",
    "# torch.save(model.state_dict(), save_path)"
   ]
  },
  {
   "cell_type": "markdown",
   "metadata": {},
   "source": [
    "### Make some predictions"
   ]
  },
  {
   "cell_type": "markdown",
   "metadata": {},
   "source": [
    "## Train shape CF"
   ]
  },
  {
   "cell_type": "markdown",
   "metadata": {},
   "source": [
    "## Train background CF"
   ]
  },
  {
   "cell_type": "markdown",
   "metadata": {},
   "source": []
  }
 ],
 "metadata": {
  "interpreter": {
   "hash": "7d28fd230918e024941f72fd9a5ff2bb0ca9d4bf408677d1aa8413c38ad123b1"
  },
  "kernelspec": {
   "display_name": "Python 3.9.7 ('cgn-cpu')",
   "language": "python",
   "name": "python3"
  },
  "language_info": {
   "codemirror_mode": {
    "name": "ipython",
    "version": 3
   },
   "file_extension": ".py",
   "mimetype": "text/x-python",
   "name": "python",
   "nbconvert_exporter": "python",
   "pygments_lexer": "ipython3",
   "version": "3.9.7"
  },
  "orig_nbformat": 4
 },
 "nbformat": 4,
 "nbformat_minor": 2
}
