{
 "cells": [
  {
   "cell_type": "markdown",
   "metadata": {},
   "source": [
    "Exploring the labels of the wildlife dataset"
   ]
  },
  {
   "cell_type": "code",
   "execution_count": 47,
   "metadata": {},
   "outputs": [
    {
     "name": "stdout",
     "output_type": "stream",
     "text": [
      "The autoreload extension is already loaded. To reload it, use:\n",
      "  %reload_ext autoreload\n"
     ]
    }
   ],
   "source": [
    "%load_ext autoreload\n",
    "%autoreload 2\n",
    "import json\n",
    "import numpy as np\n",
    "import pandas as pd\n",
    "import matplotlib.pyplot as plt\n",
    "import os\n",
    "import argparse\n",
    "import repackage\n",
    "\n",
    "import tqdm\n",
    "import torch\n",
    "import torch.nn.functional as F\n",
    "import torch.optim as optim\n",
    "from torchvision import datasets, transforms\n",
    "from torch.optim.lr_scheduler import StepLR"
   ]
  },
  {
   "cell_type": "code",
   "execution_count": 62,
   "metadata": {},
   "outputs": [],
   "source": [
    "from experiment_utils import set_env, seed_everything\n",
    "set_env()\n",
    "from cgn_extensions.mnists.dataloaders import get_dataloaders\n",
    "\n",
    "from cgn_framework.mnists.generate_data import generate_cf_dataset, generate_dataset "
   ]
  },
  {
   "cell_type": "markdown",
   "metadata": {},
   "source": [
    "## Load datset"
   ]
  },
  {
   "cell_type": "code",
   "execution_count": 63,
   "metadata": {},
   "outputs": [
    {
     "name": "stderr",
     "output_type": "stream",
     "text": [
      "/Users/alexiscarras/opt/anaconda3/envs/cgn-cpu/lib/python3.9/site-packages/torchvision/transforms/transforms.py:287: UserWarning: Argument interpolation should be of type InterpolationMode instead of int. Please, use InterpolationMode enum.\n",
      "  warnings.warn(\n",
      "/Users/alexiscarras/opt/anaconda3/envs/cgn-cpu/lib/python3.9/site-packages/torch/utils/data/dataloader.py:478: UserWarning: This DataLoader will create 8 worker processes in total. Our suggested max number of worker in current system is 4 (`cpuset` is not taken into account), which is smaller than what this DataLoader is going to create. Please be aware that excessive worker creation might get DataLoader running slow or even freeze, lower the worker number to avoid potential slowness/freeze if necessary.\n",
      "  warnings.warn(_create_warning_msg(\n"
     ]
    }
   ],
   "source": [
    "dl_train, dl_test = get_dataloaders('wildlife_MNIST', batch_size=1000, workers=8)"
   ]
  },
  {
   "cell_type": "code",
   "execution_count": 64,
   "metadata": {},
   "outputs": [
    {
     "name": "stdout",
     "output_type": "stream",
     "text": [
      "Train: 10000\n",
      "Test: 10000\n"
     ]
    }
   ],
   "source": [
    "print(f\"Train: {dl_train.dataset.labels.shape[0]}\")\n",
    "print(f\"Test: {dl_test.dataset.labels.shape[0]}\")"
   ]
  },
  {
   "cell_type": "code",
   "execution_count": 65,
   "metadata": {},
   "outputs": [],
   "source": [
    "random_idx = np.random.randint(0, dl_train.dataset.labels.shape[0])\n",
    "#idx = 0"
   ]
  },
  {
   "cell_type": "code",
   "execution_count": 66,
   "metadata": {},
   "outputs": [],
   "source": [
    "smpl_img = dl_train.dataset.__getitem__(random_idx)['ims']\n",
    "smpl_label = dl_train.dataset.__getitem__(random_idx)['labels']\n",
    "smpl_bbg = dl_train.dataset.__getitem__(random_idx)['back_text']\n",
    "smpl_obg = dl_train.dataset.__getitem__(random_idx)['obj_text']"
   ]
  },
  {
   "cell_type": "code",
   "execution_count": 67,
   "metadata": {},
   "outputs": [
    {
     "data": {
      "text/plain": [
       "dict_keys(['ims', 'labels', 'back_text', 'obj_text'])"
      ]
     },
     "execution_count": 67,
     "metadata": {},
     "output_type": "execute_result"
    }
   ],
   "source": [
    "dl_train.dataset.__getitem__(random_idx).keys()"
   ]
  },
  {
   "cell_type": "code",
   "execution_count": 68,
   "metadata": {},
   "outputs": [
    {
     "data": {
      "text/plain": [
       "torch.Size([3, 32, 32])"
      ]
     },
     "execution_count": 68,
     "metadata": {},
     "output_type": "execute_result"
    }
   ],
   "source": [
    "smpl_img.shape"
   ]
  },
  {
   "cell_type": "code",
   "execution_count": 69,
   "metadata": {},
   "outputs": [],
   "source": [
    "invTrans = transforms.Compose([\n",
    "                                transforms.Normalize(mean = [ -0.485, -0.456, -0.406 ],\n",
    "                                                     std = [ 1., 1., 1. ]),\n",
    "                               ])\n"
   ]
  },
  {
   "cell_type": "code",
   "execution_count": 70,
   "metadata": {},
   "outputs": [
    {
     "name": "stderr",
     "output_type": "stream",
     "text": [
      "Clipping input data to the valid range for imshow with RGB data ([0..1] for floats or [0..255] for integers).\n"
     ]
    },
    {
     "data": {
      "image/png": "[encoded data removed]",
      "text/plain": [
       "<Figure size 432x288 with 1 Axes>"
      ]
     },
     "metadata": {
      "needs_background": "light"
     },
     "output_type": "display_data"
    }
   ],
   "source": [
    "plt.imshow(invTrans(smpl_img).transpose(0,1).transpose(1,2))\n",
    "label = smpl_label\n",
    "plt.title(f\"Digit: {label}\")\n",
    "plt.show()\n",
    "#print(f\"Background texture: {(smpl_bbg*255).tolist()}\")\n",
    "#print(f\"Object color: {(smpl_obg*255).tolist()}\")"
   ]
  },
  {
   "cell_type": "code",
   "execution_count": 71,
   "metadata": {},
   "outputs": [
    {
     "name": "stderr",
     "output_type": "stream",
     "text": [
      "Clipping input data to the valid range for imshow with RGB data ([0..1] for floats or [0..255] for integers).\n",
      "Clipping input data to the valid range for imshow with RGB data ([0..1] for floats or [0..255] for integers).\n"
     ]
    },
    {
     "data": {
      "text/plain": [
       "<matplotlib.image.AxesImage at 0x7fdc31448970>"
      ]
     },
     "execution_count": 71,
     "metadata": {},
     "output_type": "execute_result"
    },
    {
     "data": {
      "image/png": "[encoded data removed]",
      "text/plain": [
       "<Figure size 432x288 with 2 Axes>"
      ]
     },
     "metadata": {
      "needs_background": "light"
     },
     "output_type": "display_data"
    }
   ],
   "source": [
    "fig, axs = plt.subplots(1,2)\n",
    "axs[0].imshow(smpl_bbg.transpose(0,1).transpose(1,2)*255)\n",
    "axs[1].imshow(smpl_obg.transpose(0,1).transpose(1,2)*255)"
   ]
  },
  {
   "cell_type": "markdown",
   "metadata": {},
   "source": [
    "## Train backrgound texture CF"
   ]
  },
  {
   "cell_type": "markdown",
   "metadata": {},
   "source": [
    "### ToDo: \n",
    "- map background and object texts to one of the 0-9 classes (probably upon the genereation of the dataset? depending on the file from which they are taken)\n",
    "- search to find what different attributes the different backrounds differ in (if any)\n",
    "- run training\n",
    "- implement and run testing"
   ]
  },
  {
   "cell_type": "code",
   "execution_count": 108,
   "metadata": {},
   "outputs": [],
   "source": [
    "from cgn_extensions.mnists.models.mnist_wildlife_cf import MNIST_WILDLIFE_BGTXT, train"
   ]
  },
  {
   "cell_type": "code",
   "execution_count": 109,
   "metadata": {},
   "outputs": [],
   "source": [
    "# Args for training\n",
    "args = argparse.Namespace()\n",
    "args.batch_size = 512\n",
    "args.gamma = 0.7\n",
    "args.epochs = 10\n",
    "args.lr = 0.01\n",
    "args.log_interval = 10\n",
    "args.dataset = 'wildlife_MNIST'"
   ]
  },
  {
   "cell_type": "code",
   "execution_count": 110,
   "metadata": {},
   "outputs": [],
   "source": [
    "dl_train, dl_test = get_dataloaders(args.dataset, batch_size=args.batch_size, workers=4)"
   ]
  },
  {
   "cell_type": "code",
   "execution_count": 111,
   "metadata": {},
   "outputs": [
    {
     "data": {
      "text/plain": [
       "device(type='cpu')"
      ]
     },
     "execution_count": 111,
     "metadata": {},
     "output_type": "execute_result"
    }
   ],
   "source": [
    "bg_model = MNIST_WILDLIFE_BGTXT(num_classes=10)\n",
    "\n",
    "optimizer = optim.Adadelta(bg_model.parameters(), lr=args.lr)\n",
    "scheduler = StepLR(optimizer, step_size=1, gamma=args.gamma)  # decays lr by gamma every step_size epochs\n",
    "\n",
    "# push to device and train\n",
    "device = torch.device('cuda' if torch.cuda.is_available() else 'cpu')\n",
    "model = bg_model.to(device)\n",
    "device"
   ]
  },
  {
   "cell_type": "code",
   "execution_count": 112,
   "metadata": {},
   "outputs": [
    {
     "ename": "RuntimeError",
     "evalue": "mat1 and mat2 shapes cannot be multiplied (512x60 and 120x10)",
     "output_type": "error",
     "traceback": [
      "\u001b[0;31m---------------------------------------------------------------------------\u001b[0m",
      "\u001b[0;31mRuntimeError\u001b[0m                              Traceback (most recent call last)",
      "\u001b[1;32m/Users/alexiscarras/Desktop/DEEP LEARNING II/PROJECT/dl2-cgn/concepts_experiments/wildlife_MNIST_cf.ipynb Cell 16'\u001b[0m in \u001b[0;36m<module>\u001b[0;34m\u001b[0m\n\u001b[1;32m      <a href='vscode-notebook-cell:/Users/alexiscarras/Desktop/DEEP%20LEARNING%20II/PROJECT/dl2-cgn/concepts_experiments/wildlife_MNIST_cf.ipynb#ch0000030?line=1'>2</a>\u001b[0m test_accs \u001b[39m=\u001b[39m \u001b[39mdict\u001b[39m()\n\u001b[1;32m      <a href='vscode-notebook-cell:/Users/alexiscarras/Desktop/DEEP%20LEARNING%20II/PROJECT/dl2-cgn/concepts_experiments/wildlife_MNIST_cf.ipynb#ch0000030?line=3'>4</a>\u001b[0m \u001b[39mfor\u001b[39;00m epoch \u001b[39min\u001b[39;00m \u001b[39mrange\u001b[39m(\u001b[39m1\u001b[39m, args\u001b[39m.\u001b[39mepochs\u001b[39m+\u001b[39m\u001b[39m1\u001b[39m):\n\u001b[0;32m----> <a href='vscode-notebook-cell:/Users/alexiscarras/Desktop/DEEP%20LEARNING%20II/PROJECT/dl2-cgn/concepts_experiments/wildlife_MNIST_cf.ipynb#ch0000030?line=4'>5</a>\u001b[0m     train_acc \u001b[39m=\u001b[39m train(args, bg_model, device, dl_train, optimizer, epoch, \u001b[39m'\u001b[39;49m\u001b[39mshape\u001b[39;49m\u001b[39m'\u001b[39;49m, max_batches\u001b[39m=\u001b[39;49m\u001b[39m200\u001b[39;49m)\n\u001b[1;32m      <a href='vscode-notebook-cell:/Users/alexiscarras/Desktop/DEEP%20LEARNING%20II/PROJECT/dl2-cgn/concepts_experiments/wildlife_MNIST_cf.ipynb#ch0000030?line=5'>6</a>\u001b[0m     train_accs[epoch], loss \u001b[39m=\u001b[39m train_acc\n\u001b[1;32m      <a href='vscode-notebook-cell:/Users/alexiscarras/Desktop/DEEP%20LEARNING%20II/PROJECT/dl2-cgn/concepts_experiments/wildlife_MNIST_cf.ipynb#ch0000030?line=6'>7</a>\u001b[0m     scheduler\u001b[39m.\u001b[39mstep()\n",
      "File \u001b[0;32m~/Desktop/DEEP LEARNING II/PROJECT/dl2-cgn/cgn_extensions/mnists/models/mnist_wildlife_cf.py:90\u001b[0m, in \u001b[0;36mtrain\u001b[0;34m(args, model, device, train_data_loader, optimizer, epoch, target_type, max_batches)\u001b[0m\n\u001b[1;32m     <a href='file:///Users/alexiscarras/Desktop/DEEP%20LEARNING%20II/PROJECT/dl2-cgn/cgn_extensions/mnists/models/mnist_wildlife_cf.py?line=85'>86</a>\u001b[0m img_tensor, target \u001b[39m=\u001b[39m img_tensor\u001b[39m.\u001b[39mto(device), img_tensor\u001b[39m.\u001b[39mto(device)\n\u001b[1;32m     <a href='file:///Users/alexiscarras/Desktop/DEEP%20LEARNING%20II/PROJECT/dl2-cgn/cgn_extensions/mnists/models/mnist_wildlife_cf.py?line=87'>88</a>\u001b[0m optimizer\u001b[39m.\u001b[39mzero_grad()  \u001b[39m# zero-out parameter gradients\u001b[39;00m\n\u001b[0;32m---> <a href='file:///Users/alexiscarras/Desktop/DEEP%20LEARNING%20II/PROJECT/dl2-cgn/cgn_extensions/mnists/models/mnist_wildlife_cf.py?line=89'>90</a>\u001b[0m output \u001b[39m=\u001b[39m model(img_tensor)\n\u001b[1;32m     <a href='file:///Users/alexiscarras/Desktop/DEEP%20LEARNING%20II/PROJECT/dl2-cgn/cgn_extensions/mnists/models/mnist_wildlife_cf.py?line=90'>91</a>\u001b[0m loss \u001b[39m=\u001b[39m F\u001b[39m.\u001b[39mlog_likelihood(output, target)\n\u001b[1;32m     <a href='file:///Users/alexiscarras/Desktop/DEEP%20LEARNING%20II/PROJECT/dl2-cgn/cgn_extensions/mnists/models/mnist_wildlife_cf.py?line=91'>92</a>\u001b[0m loss\u001b[39m.\u001b[39mbackward()\n",
      "File \u001b[0;32m~/opt/anaconda3/envs/cgn-cpu/lib/python3.9/site-packages/torch/nn/modules/module.py:1102\u001b[0m, in \u001b[0;36mModule._call_impl\u001b[0;34m(self, *input, **kwargs)\u001b[0m\n\u001b[1;32m   <a href='file:///Users/alexiscarras/opt/anaconda3/envs/cgn-cpu/lib/python3.9/site-packages/torch/nn/modules/module.py?line=1097'>1098</a>\u001b[0m \u001b[39m# If we don't have any hooks, we want to skip the rest of the logic in\u001b[39;00m\n\u001b[1;32m   <a href='file:///Users/alexiscarras/opt/anaconda3/envs/cgn-cpu/lib/python3.9/site-packages/torch/nn/modules/module.py?line=1098'>1099</a>\u001b[0m \u001b[39m# this function, and just call forward.\u001b[39;00m\n\u001b[1;32m   <a href='file:///Users/alexiscarras/opt/anaconda3/envs/cgn-cpu/lib/python3.9/site-packages/torch/nn/modules/module.py?line=1099'>1100</a>\u001b[0m \u001b[39mif\u001b[39;00m \u001b[39mnot\u001b[39;00m (\u001b[39mself\u001b[39m\u001b[39m.\u001b[39m_backward_hooks \u001b[39mor\u001b[39;00m \u001b[39mself\u001b[39m\u001b[39m.\u001b[39m_forward_hooks \u001b[39mor\u001b[39;00m \u001b[39mself\u001b[39m\u001b[39m.\u001b[39m_forward_pre_hooks \u001b[39mor\u001b[39;00m _global_backward_hooks\n\u001b[1;32m   <a href='file:///Users/alexiscarras/opt/anaconda3/envs/cgn-cpu/lib/python3.9/site-packages/torch/nn/modules/module.py?line=1100'>1101</a>\u001b[0m         \u001b[39mor\u001b[39;00m _global_forward_hooks \u001b[39mor\u001b[39;00m _global_forward_pre_hooks):\n\u001b[0;32m-> <a href='file:///Users/alexiscarras/opt/anaconda3/envs/cgn-cpu/lib/python3.9/site-packages/torch/nn/modules/module.py?line=1101'>1102</a>\u001b[0m     \u001b[39mreturn\u001b[39;00m forward_call(\u001b[39m*\u001b[39;49m\u001b[39minput\u001b[39;49m, \u001b[39m*\u001b[39;49m\u001b[39m*\u001b[39;49mkwargs)\n\u001b[1;32m   <a href='file:///Users/alexiscarras/opt/anaconda3/envs/cgn-cpu/lib/python3.9/site-packages/torch/nn/modules/module.py?line=1102'>1103</a>\u001b[0m \u001b[39m# Do not call functions when jit is used\u001b[39;00m\n\u001b[1;32m   <a href='file:///Users/alexiscarras/opt/anaconda3/envs/cgn-cpu/lib/python3.9/site-packages/torch/nn/modules/module.py?line=1103'>1104</a>\u001b[0m full_backward_hooks, non_full_backward_hooks \u001b[39m=\u001b[39m [], []\n",
      "File \u001b[0;32m~/Desktop/DEEP LEARNING II/PROJECT/dl2-cgn/cgn_extensions/mnists/models/mnist_wildlife_cf.py:49\u001b[0m, in \u001b[0;36mMNIST_WILDLIFE_BGTXT.forward\u001b[0;34m(self, x)\u001b[0m\n\u001b[1;32m     <a href='file:///Users/alexiscarras/Desktop/DEEP%20LEARNING%20II/PROJECT/dl2-cgn/cgn_extensions/mnists/models/mnist_wildlife_cf.py?line=41'>42</a>\u001b[0m \u001b[39mdef\u001b[39;00m \u001b[39mforward\u001b[39m(\u001b[39mself\u001b[39m, x):\n\u001b[1;32m     <a href='file:///Users/alexiscarras/Desktop/DEEP%20LEARNING%20II/PROJECT/dl2-cgn/cgn_extensions/mnists/models/mnist_wildlife_cf.py?line=42'>43</a>\u001b[0m     \u001b[39m# x = self.pool(F.relu(self.conv1(x)))\u001b[39;00m\n\u001b[1;32m     <a href='file:///Users/alexiscarras/Desktop/DEEP%20LEARNING%20II/PROJECT/dl2-cgn/cgn_extensions/mnists/models/mnist_wildlife_cf.py?line=43'>44</a>\u001b[0m     \u001b[39m# x = self.pool(F.relu(self.conv2(x)))\u001b[39;00m\n\u001b[1;32m     <a href='file:///Users/alexiscarras/Desktop/DEEP%20LEARNING%20II/PROJECT/dl2-cgn/cgn_extensions/mnists/models/mnist_wildlife_cf.py?line=44'>45</a>\u001b[0m     \u001b[39m# x = self.flatten(x) \u001b[39;00m\n\u001b[1;32m     <a href='file:///Users/alexiscarras/Desktop/DEEP%20LEARNING%20II/PROJECT/dl2-cgn/cgn_extensions/mnists/models/mnist_wildlife_cf.py?line=45'>46</a>\u001b[0m     \u001b[39m# x = F.relu(self.fc1(x))#F.leaky_relu(self.fc1(x))\u001b[39;00m\n\u001b[1;32m     <a href='file:///Users/alexiscarras/Desktop/DEEP%20LEARNING%20II/PROJECT/dl2-cgn/cgn_extensions/mnists/models/mnist_wildlife_cf.py?line=46'>47</a>\u001b[0m     \u001b[39m# x = F.relu(self.fc2(x))\u001b[39;00m\n\u001b[1;32m     <a href='file:///Users/alexiscarras/Desktop/DEEP%20LEARNING%20II/PROJECT/dl2-cgn/cgn_extensions/mnists/models/mnist_wildlife_cf.py?line=47'>48</a>\u001b[0m     x \u001b[39m=\u001b[39m \u001b[39mself\u001b[39m\u001b[39m.\u001b[39mmodel(x)\n\u001b[0;32m---> <a href='file:///Users/alexiscarras/Desktop/DEEP%20LEARNING%20II/PROJECT/dl2-cgn/cgn_extensions/mnists/models/mnist_wildlife_cf.py?line=48'>49</a>\u001b[0m     x \u001b[39m=\u001b[39m \u001b[39mself\u001b[39;49m\u001b[39m.\u001b[39;49moutput_to_probs(x)\n\u001b[1;32m     <a href='file:///Users/alexiscarras/Desktop/DEEP%20LEARNING%20II/PROJECT/dl2-cgn/cgn_extensions/mnists/models/mnist_wildlife_cf.py?line=50'>51</a>\u001b[0m     \u001b[39mreturn\u001b[39;00m x\n",
      "File \u001b[0;32m~/opt/anaconda3/envs/cgn-cpu/lib/python3.9/site-packages/torch/nn/modules/module.py:1102\u001b[0m, in \u001b[0;36mModule._call_impl\u001b[0;34m(self, *input, **kwargs)\u001b[0m\n\u001b[1;32m   <a href='file:///Users/alexiscarras/opt/anaconda3/envs/cgn-cpu/lib/python3.9/site-packages/torch/nn/modules/module.py?line=1097'>1098</a>\u001b[0m \u001b[39m# If we don't have any hooks, we want to skip the rest of the logic in\u001b[39;00m\n\u001b[1;32m   <a href='file:///Users/alexiscarras/opt/anaconda3/envs/cgn-cpu/lib/python3.9/site-packages/torch/nn/modules/module.py?line=1098'>1099</a>\u001b[0m \u001b[39m# this function, and just call forward.\u001b[39;00m\n\u001b[1;32m   <a href='file:///Users/alexiscarras/opt/anaconda3/envs/cgn-cpu/lib/python3.9/site-packages/torch/nn/modules/module.py?line=1099'>1100</a>\u001b[0m \u001b[39mif\u001b[39;00m \u001b[39mnot\u001b[39;00m (\u001b[39mself\u001b[39m\u001b[39m.\u001b[39m_backward_hooks \u001b[39mor\u001b[39;00m \u001b[39mself\u001b[39m\u001b[39m.\u001b[39m_forward_hooks \u001b[39mor\u001b[39;00m \u001b[39mself\u001b[39m\u001b[39m.\u001b[39m_forward_pre_hooks \u001b[39mor\u001b[39;00m _global_backward_hooks\n\u001b[1;32m   <a href='file:///Users/alexiscarras/opt/anaconda3/envs/cgn-cpu/lib/python3.9/site-packages/torch/nn/modules/module.py?line=1100'>1101</a>\u001b[0m         \u001b[39mor\u001b[39;00m _global_forward_hooks \u001b[39mor\u001b[39;00m _global_forward_pre_hooks):\n\u001b[0;32m-> <a href='file:///Users/alexiscarras/opt/anaconda3/envs/cgn-cpu/lib/python3.9/site-packages/torch/nn/modules/module.py?line=1101'>1102</a>\u001b[0m     \u001b[39mreturn\u001b[39;00m forward_call(\u001b[39m*\u001b[39;49m\u001b[39minput\u001b[39;49m, \u001b[39m*\u001b[39;49m\u001b[39m*\u001b[39;49mkwargs)\n\u001b[1;32m   <a href='file:///Users/alexiscarras/opt/anaconda3/envs/cgn-cpu/lib/python3.9/site-packages/torch/nn/modules/module.py?line=1102'>1103</a>\u001b[0m \u001b[39m# Do not call functions when jit is used\u001b[39;00m\n\u001b[1;32m   <a href='file:///Users/alexiscarras/opt/anaconda3/envs/cgn-cpu/lib/python3.9/site-packages/torch/nn/modules/module.py?line=1103'>1104</a>\u001b[0m full_backward_hooks, non_full_backward_hooks \u001b[39m=\u001b[39m [], []\n",
      "File \u001b[0;32m~/opt/anaconda3/envs/cgn-cpu/lib/python3.9/site-packages/torch/nn/modules/container.py:141\u001b[0m, in \u001b[0;36mSequential.forward\u001b[0;34m(self, input)\u001b[0m\n\u001b[1;32m    <a href='file:///Users/alexiscarras/opt/anaconda3/envs/cgn-cpu/lib/python3.9/site-packages/torch/nn/modules/container.py?line=138'>139</a>\u001b[0m \u001b[39mdef\u001b[39;00m \u001b[39mforward\u001b[39m(\u001b[39mself\u001b[39m, \u001b[39minput\u001b[39m):\n\u001b[1;32m    <a href='file:///Users/alexiscarras/opt/anaconda3/envs/cgn-cpu/lib/python3.9/site-packages/torch/nn/modules/container.py?line=139'>140</a>\u001b[0m     \u001b[39mfor\u001b[39;00m module \u001b[39min\u001b[39;00m \u001b[39mself\u001b[39m:\n\u001b[0;32m--> <a href='file:///Users/alexiscarras/opt/anaconda3/envs/cgn-cpu/lib/python3.9/site-packages/torch/nn/modules/container.py?line=140'>141</a>\u001b[0m         \u001b[39minput\u001b[39m \u001b[39m=\u001b[39m module(\u001b[39minput\u001b[39;49m)\n\u001b[1;32m    <a href='file:///Users/alexiscarras/opt/anaconda3/envs/cgn-cpu/lib/python3.9/site-packages/torch/nn/modules/container.py?line=141'>142</a>\u001b[0m     \u001b[39mreturn\u001b[39;00m \u001b[39minput\u001b[39m\n",
      "File \u001b[0;32m~/opt/anaconda3/envs/cgn-cpu/lib/python3.9/site-packages/torch/nn/modules/module.py:1102\u001b[0m, in \u001b[0;36mModule._call_impl\u001b[0;34m(self, *input, **kwargs)\u001b[0m\n\u001b[1;32m   <a href='file:///Users/alexiscarras/opt/anaconda3/envs/cgn-cpu/lib/python3.9/site-packages/torch/nn/modules/module.py?line=1097'>1098</a>\u001b[0m \u001b[39m# If we don't have any hooks, we want to skip the rest of the logic in\u001b[39;00m\n\u001b[1;32m   <a href='file:///Users/alexiscarras/opt/anaconda3/envs/cgn-cpu/lib/python3.9/site-packages/torch/nn/modules/module.py?line=1098'>1099</a>\u001b[0m \u001b[39m# this function, and just call forward.\u001b[39;00m\n\u001b[1;32m   <a href='file:///Users/alexiscarras/opt/anaconda3/envs/cgn-cpu/lib/python3.9/site-packages/torch/nn/modules/module.py?line=1099'>1100</a>\u001b[0m \u001b[39mif\u001b[39;00m \u001b[39mnot\u001b[39;00m (\u001b[39mself\u001b[39m\u001b[39m.\u001b[39m_backward_hooks \u001b[39mor\u001b[39;00m \u001b[39mself\u001b[39m\u001b[39m.\u001b[39m_forward_hooks \u001b[39mor\u001b[39;00m \u001b[39mself\u001b[39m\u001b[39m.\u001b[39m_forward_pre_hooks \u001b[39mor\u001b[39;00m _global_backward_hooks\n\u001b[1;32m   <a href='file:///Users/alexiscarras/opt/anaconda3/envs/cgn-cpu/lib/python3.9/site-packages/torch/nn/modules/module.py?line=1100'>1101</a>\u001b[0m         \u001b[39mor\u001b[39;00m _global_forward_hooks \u001b[39mor\u001b[39;00m _global_forward_pre_hooks):\n\u001b[0;32m-> <a href='file:///Users/alexiscarras/opt/anaconda3/envs/cgn-cpu/lib/python3.9/site-packages/torch/nn/modules/module.py?line=1101'>1102</a>\u001b[0m     \u001b[39mreturn\u001b[39;00m forward_call(\u001b[39m*\u001b[39;49m\u001b[39minput\u001b[39;49m, \u001b[39m*\u001b[39;49m\u001b[39m*\u001b[39;49mkwargs)\n\u001b[1;32m   <a href='file:///Users/alexiscarras/opt/anaconda3/envs/cgn-cpu/lib/python3.9/site-packages/torch/nn/modules/module.py?line=1102'>1103</a>\u001b[0m \u001b[39m# Do not call functions when jit is used\u001b[39;00m\n\u001b[1;32m   <a href='file:///Users/alexiscarras/opt/anaconda3/envs/cgn-cpu/lib/python3.9/site-packages/torch/nn/modules/module.py?line=1103'>1104</a>\u001b[0m full_backward_hooks, non_full_backward_hooks \u001b[39m=\u001b[39m [], []\n",
      "File \u001b[0;32m~/opt/anaconda3/envs/cgn-cpu/lib/python3.9/site-packages/torch/nn/modules/linear.py:103\u001b[0m, in \u001b[0;36mLinear.forward\u001b[0;34m(self, input)\u001b[0m\n\u001b[1;32m    <a href='file:///Users/alexiscarras/opt/anaconda3/envs/cgn-cpu/lib/python3.9/site-packages/torch/nn/modules/linear.py?line=101'>102</a>\u001b[0m \u001b[39mdef\u001b[39;00m \u001b[39mforward\u001b[39m(\u001b[39mself\u001b[39m, \u001b[39minput\u001b[39m: Tensor) \u001b[39m-\u001b[39m\u001b[39m>\u001b[39m Tensor:\n\u001b[0;32m--> <a href='file:///Users/alexiscarras/opt/anaconda3/envs/cgn-cpu/lib/python3.9/site-packages/torch/nn/modules/linear.py?line=102'>103</a>\u001b[0m     \u001b[39mreturn\u001b[39;00m F\u001b[39m.\u001b[39;49mlinear(\u001b[39minput\u001b[39;49m, \u001b[39mself\u001b[39;49m\u001b[39m.\u001b[39;49mweight, \u001b[39mself\u001b[39;49m\u001b[39m.\u001b[39;49mbias)\n",
      "File \u001b[0;32m~/opt/anaconda3/envs/cgn-cpu/lib/python3.9/site-packages/torch/nn/functional.py:1848\u001b[0m, in \u001b[0;36mlinear\u001b[0;34m(input, weight, bias)\u001b[0m\n\u001b[1;32m   <a href='file:///Users/alexiscarras/opt/anaconda3/envs/cgn-cpu/lib/python3.9/site-packages/torch/nn/functional.py?line=1845'>1846</a>\u001b[0m \u001b[39mif\u001b[39;00m has_torch_function_variadic(\u001b[39minput\u001b[39m, weight, bias):\n\u001b[1;32m   <a href='file:///Users/alexiscarras/opt/anaconda3/envs/cgn-cpu/lib/python3.9/site-packages/torch/nn/functional.py?line=1846'>1847</a>\u001b[0m     \u001b[39mreturn\u001b[39;00m handle_torch_function(linear, (\u001b[39minput\u001b[39m, weight, bias), \u001b[39minput\u001b[39m, weight, bias\u001b[39m=\u001b[39mbias)\n\u001b[0;32m-> <a href='file:///Users/alexiscarras/opt/anaconda3/envs/cgn-cpu/lib/python3.9/site-packages/torch/nn/functional.py?line=1847'>1848</a>\u001b[0m \u001b[39mreturn\u001b[39;00m torch\u001b[39m.\u001b[39;49m_C\u001b[39m.\u001b[39;49m_nn\u001b[39m.\u001b[39;49mlinear(\u001b[39minput\u001b[39;49m, weight, bias)\n",
      "\u001b[0;31mRuntimeError\u001b[0m: mat1 and mat2 shapes cannot be multiplied (512x60 and 120x10)"
     ]
    }
   ],
   "source": [
    "train_accs = dict()\n",
    "test_accs = dict()\n",
    "\n",
    "for epoch in range(1, args.epochs+1):\n",
    "    train_acc = train(args, bg_model, device, dl_train, optimizer, epoch, 'shape', max_batches=200)\n",
    "    train_accs[epoch], loss = train_acc\n",
    "    scheduler.step()\n",
    "    "
   ]
  },
  {
   "cell_type": "code",
   "execution_count": null,
   "metadata": {},
   "outputs": [],
   "source": [
    "# Plot accuracies\n",
    "fig, axs = plt.subplots(1,2)\n",
    "axs[0].plot(train_accs.keys(), train_accs.values())\n",
    "axs[0].set_ylabel('Accuracy')\n",
    "#axs[1].plot(test_accs.keys(), test_accs.values())\n",
    "#axs[1].set_ylabel('Log-Likelihood loss)\n",
    "axs.set_xlabel('Epochs')\n",
    "axs.legend(['train', 'test'])\n",
    "plt.show()"
   ]
  },
  {
   "cell_type": "code",
   "execution_count": null,
   "metadata": {},
   "outputs": [],
   "source": []
  },
  {
   "cell_type": "code",
   "execution_count": null,
   "metadata": {},
   "outputs": [],
   "source": [
    "# simg = dl_train.dataset.__getitem__(0)['ims']\n",
    "# slbl = dl_train.dataset.__getitem__(0)['labels']\n",
    "# bg_text = dl_train.dataset.__getitem__(0)['bg_text']\n",
    "# obj_text = dl_train.dataset.__getitem__(0)['obj_text']"
   ]
  },
  {
   "cell_type": "code",
   "execution_count": null,
   "metadata": {},
   "outputs": [
    {
     "name": "stderr",
     "output_type": "stream",
     "text": [
      "Clipping input data to the valid range for imshow with RGB data ([0..1] for floats or [0..255] for integers).\n"
     ]
    },
    {
     "data": {
      "image/png": "[encoded data removed]",
      "text/plain": [
       "<Figure size 432x288 with 1 Axes>"
      ]
     },
     "metadata": {
      "needs_background": "light"
     },
     "output_type": "display_data"
    }
   ],
   "source": [
    "# plt.imshow(simg.numpy().transpose(1,2,0))\n",
    "# plt.title(f\"Digit: {slbl}\")\n",
    "# plt.show()"
   ]
  },
  {
   "cell_type": "code",
   "execution_count": null,
   "metadata": {},
   "outputs": [],
   "source": []
  }
 ],
 "metadata": {
  "interpreter": {
   "hash": "7d28fd230918e024941f72fd9a5ff2bb0ca9d4bf408677d1aa8413c38ad123b1"
  },
  "kernelspec": {
   "display_name": "Python 3.9.7 ('cgn-cpu')",
   "language": "python",
   "name": "python3"
  },
  "language_info": {
   "codemirror_mode": {
    "name": "ipython",
    "version": 3
   },
   "file_extension": ".py",
   "mimetype": "text/x-python",
   "name": "python",
   "nbconvert_exporter": "python",
   "pygments_lexer": "ipython3",
   "version": "3.9.7"
  },
  "orig_nbformat": 4
 },
 "nbformat": 4,
 "nbformat_minor": 2
}
