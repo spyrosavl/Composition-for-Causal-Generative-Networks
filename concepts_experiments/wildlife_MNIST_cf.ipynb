{
 "cells": [
  {
   "cell_type": "markdown",
   "metadata": {},
   "source": [
    "Exploring the labels of the wildlife dataset"
   ]
  },
  {
   "cell_type": "code",
   "execution_count": 9,
   "metadata": {},
   "outputs": [
    {
     "name": "stdout",
     "output_type": "stream",
     "text": [
      "The autoreload extension is already loaded. To reload it, use:\n",
      "  %reload_ext autoreload\n"
     ]
    }
   ],
   "source": [
    "%load_ext autoreload\n",
    "%autoreload 2\n",
    "import json\n",
    "import numpy as np\n",
    "import pandas as pd\n",
    "import matplotlib.pyplot as plt\n",
    "import os\n",
    "import argparse\n",
    "import repackage\n",
    "\n",
    "import torch\n",
    "import torch.nn.functional as F\n",
    "import torch.optim as optim\n",
    "from torchvision import datasets, transforms\n",
    "from torch.optim.lr_scheduler import StepLR"
   ]
  },
  {
   "cell_type": "code",
   "execution_count": 10,
   "metadata": {},
   "outputs": [],
   "source": [
    "from experiment_utils import set_env, seed_everything\n",
    "set_env()\n",
    "from cgn_framework.mnists.generate_data import generate_cf_dataset, generate_dataset, get_dataloaders\n",
    "from cgn_framework.mnists.generate_data import generate_cf_dataset, generate_dataset, get_dataloaders"
   ]
  },
  {
   "cell_type": "markdown",
   "metadata": {},
   "source": [
    "## Load datset"
   ]
  },
  {
   "cell_type": "code",
   "execution_count": 11,
   "metadata": {},
   "outputs": [],
   "source": [
    "dl_train, dl_test = get_dataloaders('wildlife_MNIST', batch_size=1000, workers=8)"
   ]
  },
  {
   "cell_type": "code",
   "execution_count": 12,
   "metadata": {},
   "outputs": [
    {
     "name": "stdout",
     "output_type": "stream",
     "text": [
      "Train: 50000\n",
      "Test: 10000\n"
     ]
    }
   ],
   "source": [
    "print(f\"Train: {dl_train.dataset.labels.shape[0]}\")\n",
    "print(f\"Test: {dl_test.dataset.labels.shape[0]}\")"
   ]
  },
  {
   "cell_type": "code",
   "execution_count": 13,
   "metadata": {},
   "outputs": [],
   "source": [
    "random_idx = np.random.randint(0, dl_train.dataset.labels.shape[0])\n",
    "#idx = 0"
   ]
  },
  {
   "cell_type": "code",
   "execution_count": 18,
   "metadata": {},
   "outputs": [],
   "source": [
    "smpl_img = dl_train.dataset.__getitem__(random_idx)['ims']\n",
    "smpl_label = dl_train.dataset.__getitem__(random_idx)['labels']\n",
    "smpl_bbg = dl_train.dataset.__getitem__(random_idx)['back_text']\n",
    "smpl_obg = dl_train.dataset.__getitem__(random_idx)['obj_text']"
   ]
  },
  {
   "cell_type": "code",
   "execution_count": 32,
   "metadata": {},
   "outputs": [],
   "source": [
    "invTrans = transforms.Compose([\n",
    "                                transforms.Normalize(mean = [ -0.485, -0.456, -0.406 ],\n",
    "                                                     std = [ 1., 1., 1. ]),\n",
    "                               ])\n"
   ]
  },
  {
   "cell_type": "code",
   "execution_count": 33,
   "metadata": {},
   "outputs": [
    {
     "name": "stderr",
     "output_type": "stream",
     "text": [
      "Clipping input data to the valid range for imshow with RGB data ([0..1] for floats or [0..255] for integers).\n"
     ]
    },
    {
     "data": {
      "image/png": "[encoded data removed]",
      "text/plain": [
       "<Figure size 432x288 with 1 Axes>"
      ]
     },
     "metadata": {
      "needs_background": "light"
     },
     "output_type": "display_data"
    }
   ],
   "source": [
    "plt.imshow(invTrans(smpl_img).transpose(0,1).transpose(1,2))\n",
    "label = smpl_label\n",
    "plt.title(f\"Digit: {label}\")\n",
    "plt.show()\n",
    "#print(f\"Background texture: {(smpl_bbg*255).tolist()}\")\n",
    "#print(f\"Object color: {(smpl_obg*255).tolist()}\")"
   ]
  },
  {
   "cell_type": "code",
   "execution_count": 27,
   "metadata": {},
   "outputs": [
    {
     "name": "stderr",
     "output_type": "stream",
     "text": [
      "Clipping input data to the valid range for imshow with RGB data ([0..1] for floats or [0..255] for integers).\n",
      "Clipping input data to the valid range for imshow with RGB data ([0..1] for floats or [0..255] for integers).\n"
     ]
    },
    {
     "data": {
      "text/plain": [
       "<matplotlib.image.AxesImage at 0x7fdc423c97c0>"
      ]
     },
     "execution_count": 27,
     "metadata": {},
     "output_type": "execute_result"
    },
    {
     "data": {
      "image/png": "[encoded data removed]",
      "text/plain": [
       "<Figure size 432x288 with 2 Axes>"
      ]
     },
     "metadata": {
      "needs_background": "light"
     },
     "output_type": "display_data"
    }
   ],
   "source": [
    "fig, axs = plt.subplots(1,2)\n",
    "axs[0].imshow(smpl_bbg.transpose(0,1).transpose(1,2)*255)\n",
    "axs[1].imshow(smpl_obg.transpose(0,1).transpose(1,2)*255)"
   ]
  },
  {
   "cell_type": "markdown",
   "metadata": {},
   "source": [
    "## Train backrgound CF"
   ]
  },
  {
   "cell_type": "code",
   "execution_count": 8,
   "metadata": {},
   "outputs": [
    {
     "ename": "NameError",
     "evalue": "name 'argparse' is not defined",
     "output_type": "error",
     "traceback": [
      "\u001b[0;31m---------------------------------------------------------------------------\u001b[0m",
      "\u001b[0;31mNameError\u001b[0m                                 Traceback (most recent call last)",
      "\u001b[1;32m/Users/alexiscarras/Desktop/DEEP LEARNING II/PROJECT/dl2-cgn/concepts_experiments/wildlife_MNIST_cf.ipynb Cell 10'\u001b[0m in \u001b[0;36m<module>\u001b[0;34m\u001b[0m\n\u001b[1;32m      <a href='vscode-notebook-cell:/Users/alexiscarras/Desktop/DEEP%20LEARNING%20II/PROJECT/dl2-cgn/concepts_experiments/wildlife_MNIST_cf.ipynb#ch0000011?line=1'>2</a>\u001b[0m \u001b[39mfrom\u001b[39;00m \u001b[39mtrain_classifier\u001b[39;00m \u001b[39mimport\u001b[39;00m train, test\n\u001b[1;32m      <a href='vscode-notebook-cell:/Users/alexiscarras/Desktop/DEEP%20LEARNING%20II/PROJECT/dl2-cgn/concepts_experiments/wildlife_MNIST_cf.ipynb#ch0000011?line=3'>4</a>\u001b[0m \u001b[39m# Args for training\u001b[39;00m\n\u001b[0;32m----> <a href='vscode-notebook-cell:/Users/alexiscarras/Desktop/DEEP%20LEARNING%20II/PROJECT/dl2-cgn/concepts_experiments/wildlife_MNIST_cf.ipynb#ch0000011?line=4'>5</a>\u001b[0m args \u001b[39m=\u001b[39m argparse\u001b[39m.\u001b[39mNamespace()\n\u001b[1;32m      <a href='vscode-notebook-cell:/Users/alexiscarras/Desktop/DEEP%20LEARNING%20II/PROJECT/dl2-cgn/concepts_experiments/wildlife_MNIST_cf.ipynb#ch0000011?line=5'>6</a>\u001b[0m args\u001b[39m.\u001b[39mbatch_size \u001b[39m=\u001b[39m \u001b[39m1000\u001b[39m\n\u001b[1;32m      <a href='vscode-notebook-cell:/Users/alexiscarras/Desktop/DEEP%20LEARNING%20II/PROJECT/dl2-cgn/concepts_experiments/wildlife_MNIST_cf.ipynb#ch0000011?line=6'>7</a>\u001b[0m args\u001b[39m.\u001b[39mgamma \u001b[39m=\u001b[39m \u001b[39m0.7\u001b[39m\n",
      "\u001b[0;31mNameError\u001b[0m: name 'argparse' is not defined"
     ]
    }
   ],
   "source": [
    "from cgn_framework.mnists.models.classifier import CNN\n",
    "from train_classifier import train, test\n",
    "\n",
    "# Args for training\n",
    "args = argparse.Namespace()\n",
    "args.batch_size = 1000\n",
    "args.gamma = 0.7\n",
    "args.epochs = 10\n",
    "args.lr = 1.0\n",
    "args.log_interval = 100\n",
    "args.dataset = 'double_colored_MNIST'\n",
    "\n",
    "# Data\n",
    "dl_train, dl_test = get_dataloaders(args.dataset, batch_size=args.batch_size, workers=8)\n",
    "\n",
    "# Model\n",
    "model = CNN()\n",
    "\n",
    "# Optimizer\n",
    "optimizer = optim.Adadelta(model.parameters(), lr=args.lr)\n",
    "scheduler = StepLR(optimizer, step_size=1, gamma=args.gamma)\n",
    "\n",
    "# push to device and train\n",
    "device = torch.device('cuda' if torch.cuda.is_available() else 'cpu')\n",
    "model = model.to(device)"
   ]
  },
  {
   "cell_type": "code",
   "execution_count": 40,
   "metadata": {},
   "outputs": [],
   "source": [
    "# simg = dl_train.dataset.__getitem__(0)['ims']\n",
    "# slbl = dl_train.dataset.__getitem__(0)['labels']\n",
    "# bg_text = dl_train.dataset.__getitem__(0)['bg_text']\n",
    "# obj_text = dl_train.dataset.__getitem__(0)['obj_text']"
   ]
  },
  {
   "cell_type": "code",
   "execution_count": 39,
   "metadata": {},
   "outputs": [
    {
     "name": "stderr",
     "output_type": "stream",
     "text": [
      "Clipping input data to the valid range for imshow with RGB data ([0..1] for floats or [0..255] for integers).\n"
     ]
    },
    {
     "data": {
      "image/png": "[encoded data removed]",
      "text/plain": [
       "<Figure size 432x288 with 1 Axes>"
      ]
     },
     "metadata": {
      "needs_background": "light"
     },
     "output_type": "display_data"
    }
   ],
   "source": [
    "# plt.imshow(simg.numpy().transpose(1,2,0))\n",
    "# plt.title(f\"Digit: {slbl}\")\n",
    "# plt.show()"
   ]
  },
  {
   "cell_type": "code",
   "execution_count": null,
   "metadata": {},
   "outputs": [],
   "source": []
  }
 ],
 "metadata": {
  "interpreter": {
   "hash": "7d28fd230918e024941f72fd9a5ff2bb0ca9d4bf408677d1aa8413c38ad123b1"
  },
  "kernelspec": {
   "display_name": "Python 3.9.7 ('cgn-cpu')",
   "language": "python",
   "name": "python3"
  },
  "language_info": {
   "codemirror_mode": {
    "name": "ipython",
    "version": 3
   },
   "file_extension": ".py",
   "mimetype": "text/x-python",
   "name": "python",
   "nbconvert_exporter": "python",
   "pygments_lexer": "ipython3",
   "version": "3.9.7"
  },
  "orig_nbformat": 4
 },
 "nbformat": 4,
 "nbformat_minor": 2
}
