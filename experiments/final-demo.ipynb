{
 "cells": [
  {
   "cell_type": "markdown",
   "id": "6d6ec556-d331-4892-9914-f2916c3ab0a7",
   "metadata": {},
   "source": [
    "## Table of Contents\n",
    "\n",
    "* [Setup & Imports](#imports)\n",
    "* [Reproducibility study](#4.1)\n",
    "    * [Qualitative evaluation of counterfactual samples](#qual-eval-cf-samples) (HQC)\n",
    "    * [Evaluating invariant classifiers](#eval-inv-clf) (ODR)\n",
    "        * [Experiments on MNISTs](#repr-mnist)\n",
    "        * [Experiments on ImageNet-mini](#repr-in-mini)\n",
    "    * [Loss Ablation](#loss-ablation) (IBR)\n",
    "* [Additional experiments and analyses](#add-expts)\n",
    "    * [Explainability analysis on MNISTs](#expl-mnist)\n",
    "    * [Explainability analysis on ImageNet-mini](#expl-in-mini)\n",
    "    * [Robustness to OOD generalization](#ood)"
   ]
  },
  {
   "cell_type": "markdown",
   "id": "baf5dbf2-dab0-4ec9-952a-f7d34d874d14",
   "metadata": {},
   "source": [
    "## Setup & Imports  <a class=\"anchor\" id=\"imports\"></a>"
   ]
  },
  {
   "cell_type": "code",
   "execution_count": 10,
   "id": "2fd6f6a5-13ef-49b9-a03b-b7d4489babf0",
   "metadata": {},
   "outputs": [
    {
     "name": "stdout",
     "output_type": "stream",
     "text": [
      "The autoreload extension is already loaded. To reload it, use:\n",
      "  %reload_ext autoreload\n"
     ]
    }
   ],
   "source": [
    "%load_ext autoreload\n",
    "%autoreload 2"
   ]
  },
  {
   "cell_type": "code",
   "execution_count": 11,
   "id": "b0160665-1027-451c-97be-c601dc31b8e7",
   "metadata": {},
   "outputs": [],
   "source": [
    "import json\n",
    "import numpy as np\n",
    "import pandas as pd\n",
    "import matplotlib.pyplot as plt"
   ]
  },
  {
   "cell_type": "code",
   "execution_count": 12,
   "id": "b667e041-62b9-4a6d-bc32-954db15c2675",
   "metadata": {},
   "outputs": [],
   "source": [
    "import warnings\n",
    "warnings.filterwarnings(\"ignore\")"
   ]
  },
  {
   "cell_type": "markdown",
   "id": "23b0f663-e30c-4fc8-98d6-9edb61de7c37",
   "metadata": {},
   "source": [
    "### Download data"
   ]
  },
  {
   "cell_type": "markdown",
   "id": "34317b0b",
   "metadata": {},
   "source": [
    "The ImageNet-mini dataset needs to be downloaded from Kaggle. Please export your Kaggle credentials using the following command. The key is the Kaggle API key and can be found in your account settings.\n",
    "```sh\n",
    "export KAGGLE_USERNAME=<your_username>\n",
    "export KAGGLE_KEY=<your_key>\n",
    "```\n",
    "\n",
    "Or alternatively, you can download your API key `kaggle.json` file and put it here `~/.kaggle/kaggle.json`.\n",
    "\n",
    "> Note: Downloading all datasets takes about 20 mins and needs about 7GB of free space. In case the download fails at some point, you can re-run the cell, it will not download datasets already downloaded\n"
   ]
  },
  {
   "cell_type": "code",
   "execution_count": 13,
   "id": "13ba36f2-5b69-416f-8226-f8d3adf1ae7d",
   "metadata": {},
   "outputs": [
    {
     "name": "stdout",
     "output_type": "stream",
     "text": [
      "::: Downloading datasets: colored MNIST | IN-9 | Cue-conflict ...\n",
      "- All datasets required for reproducibility are already downloaded.\n",
      "\n",
      "::: Downloading OOD datasets ...\n",
      "1. Downloading IN-a ...\n",
      "- IN-a is already downloaded. \n",
      "\n",
      "2. Downloading IN-sketch ...\n",
      "- IN-sketch is already downloaded. \n",
      "\n",
      "3. Downloading IN-stylized ...\n",
      "- IN-stylized is already downloaded. \n",
      "\n",
      "::: Downloading IN-mini ...\n",
      "- Unzipping /Users/alexiscarras/Desktop/DEEP LEARNING II/PROJECT/dl2-cgn/cgn_framework/imagenet/data/imagenetmini-1000.zip...\n",
      "usage: mv [-f | -i | -n] [-v] source target\n",
      "       mv [-f | -i | -n] [-v] source ... directory\n",
      "- Done \n",
      "\n"
     ]
    }
   ],
   "source": [
    "!python ../setup/download_datasets.py"
   ]
  },
  {
   "cell_type": "markdown",
   "id": "14a5ad90",
   "metadata": {},
   "source": [
    "This should download datasets for both `mnists` and `imagenet` tasks.\n",
    "\n",
    "For MNISTs, the folder structure is as follows:\n",
    "```sh\n",
    "mnists/data\n",
    "├── colored_mnist\n",
    "└── textures\n",
    "    ├── background\n",
    "    └── object\n",
    "\n",
    "4 directories\n",
    "```\n",
    "\n",
    "For ImageNet, the folder structure is as follows:\n",
    "```sh\n",
    "imagenet/data\n",
    "├── cue_conflict\n",
    "├── in-a\n",
    "├── in-mini\n",
    "├── in-sketch\n",
    "├── in-stylized\n",
    "└── in9\n",
    "\n",
    "6 directories\n",
    "```"
   ]
  },
  {
   "cell_type": "markdown",
   "id": "7949a384-7cb9-457a-86ac-ee9a8fc062f0",
   "metadata": {},
   "source": [
    "### Download model weights\n",
    "\n",
    "> Note: This takes < 5 mins to run and needs about 6GBs of free space. In case the download fails at some point, you can re-run the cell, it will not download model weights already downloaded."
   ]
  },
  {
   "cell_type": "code",
   "execution_count": null,
   "id": "276fec4f-d415-4dfe-946b-dd35f167ca20",
   "metadata": {},
   "outputs": [
    {
     "name": "stdout",
     "output_type": "stream",
     "text": [
      "Downloading...\n",
      "From: https://drive.google.com/u/0/uc?id=1ao1ovG1Qtx4b7EoskHXmi2E9rp5CHLcZ&export=download\n",
      "To: /Users/alexiscarras/Desktop/DEEP LEARNING II/PROJECT/dl2-cgn/cgn_framework/u2net.pth\n",
      "100%|████████████████████████████████████████| 176M/176M [00:24<00:00, 7.32MB/s]\n",
      "Downloading...\n",
      "From: https://drive.google.com/u/0/uc?id=12yVFHPUjKmUFGnO2D4xVlTSpF8CUj136&export=download\n",
      "To: /Users/alexiscarras/Desktop/DEEP LEARNING II/PROJECT/dl2-cgn/cgn_framework/cgn.pth\n",
      "100%|██████████████████████████████████████| 1.11G/1.11G [02:36<00:00, 7.13MB/s]\n",
      "--2022-05-20 12:46:32--  https://s3.amazonaws.com/models.huggingface.co/biggan/biggan-deep-256-pytorch_model.bin\n",
      "Resolving s3.amazonaws.com (s3.amazonaws.com)... 52.216.160.85\n",
      "Connecting to s3.amazonaws.com (s3.amazonaws.com)|52.216.160.85|:443... connected.\n",
      "HTTP request sent, awaiting response... 200 OK\n",
      "Length: 234411737 (224M) [application/octet-stream]\n",
      "Saving to: ‘biggan-deep-256-pytorch_model.bin’\n",
      "\n",
      "biggan-deep-256-pyt 100%[===================>] 223,55M  4,50MB/s    in 42s     \n",
      "\n",
      "2022-05-20 12:47:15 (5,28 MB/s) - ‘biggan-deep-256-pytorch_model.bin’ saved [234411737/234411737]\n",
      "\n",
      "--2022-05-20 12:47:15--  https://www.dropbox.com/sh/phwbbrtadrclpnx/AAAWeqEoHR-6L5lr9SZZYn8Sa/model_best.pth.tar\n",
      "Resolving www.dropbox.com (www.dropbox.com)... 2620:100:6021:18::a27d:4112, 162.125.65.18\n",
      "Connecting to www.dropbox.com (www.dropbox.com)|2620:100:6021:18::a27d:4112|:443... connected.\n",
      "HTTP request sent, awaiting response... 301 Moved Permanently\n",
      "Location: /sh/raw/phwbbrtadrclpnx/AAAWeqEoHR-6L5lr9SZZYn8Sa/model_best.pth.tar [following]\n",
      "--2022-05-20 12:47:16--  https://www.dropbox.com/sh/raw/phwbbrtadrclpnx/AAAWeqEoHR-6L5lr9SZZYn8Sa/model_best.pth.tar\n",
      "Reusing existing connection to [www.dropbox.com]:443.\n",
      "HTTP request sent, awaiting response... 302 Found\n",
      "Location: https://uc1eb63e6bf7df2a0cb97e7763b8.dl.dropboxusercontent.com/cd/0/inline/BlnwP1RgTo1nQae8kZL9TedmCmwiy-kxsjV-A2aO8vrE3cJ-rxZcVqfU9J44G1WW1eFoKBA6NLSn-PNxe656xNBnafz6Xm_Ydsd4lWsyEGKHylBFU37-3fGTGVmx2iUZn6fyX45LwG_iZAaswBqoeVRFzXZWtkDPhwVEmSkSHhnzAA/file# [following]\n",
      "--2022-05-20 12:47:16--  https://uc1eb63e6bf7df2a0cb97e7763b8.dl.dropboxusercontent.com/cd/0/inline/BlnwP1RgTo1nQae8kZL9TedmCmwiy-kxsjV-A2aO8vrE3cJ-rxZcVqfU9J44G1WW1eFoKBA6NLSn-PNxe656xNBnafz6Xm_Ydsd4lWsyEGKHylBFU37-3fGTGVmx2iUZn6fyX45LwG_iZAaswBqoeVRFzXZWtkDPhwVEmSkSHhnzAA/file\n",
      "Resolving uc1eb63e6bf7df2a0cb97e7763b8.dl.dropboxusercontent.com (uc1eb63e6bf7df2a0cb97e7763b8.dl.dropboxusercontent.com)... 2620:100:6021:15::a27d:410f, 162.125.65.15\n",
      "Connecting to uc1eb63e6bf7df2a0cb97e7763b8.dl.dropboxusercontent.com (uc1eb63e6bf7df2a0cb97e7763b8.dl.dropboxusercontent.com)|2620:100:6021:15::a27d:410f|:443... connected.\n",
      "HTTP request sent, awaiting response... 302 Found\n",
      "Location: /cd/0/inline2/Blkfx8pBXOdyqGXfj6PLiJXrH5i5LOfzjZovwYhEBBM8dPBk4QuQXDliNqbPOWzbwojWcCk8zA8gc6_WJ58U6R60eN_nF0qDa2-e2GEvY_TTzPZgti2C_ogS9M8WZatYHfZ_vxszRi2bhbtLJvLqQgdWzf3yFdlH70vkwdjfI1QG65sM15p7lijvNwiuLdK1ui_wJvyhC5p-fp2NHNqyqiu8gAr0u-5rhmX1ORt7oAVSuf5ZIFuWkvDnXx2hSMcXYLx8jgpSiUDXRWimHp9fTPvwNKVVGfjz3sNjt-tZJN4XpB9ad1bN9BAqxXFFRbKhCdKBlvxNeppsmBIiFWrRqW_a5HQ_RX8UGl8rrToOScUtYtFFjSUGLKvhgfQP_zUfpjasV7ZiQntMCb_N1dbTpZWMzkKwucFHavzMGUz30wbJow/file [following]\n",
      "--2022-05-20 12:47:17--  https://uc1eb63e6bf7df2a0cb97e7763b8.dl.dropboxusercontent.com/cd/0/inline2/Blkfx8pBXOdyqGXfj6PLiJXrH5i5LOfzjZovwYhEBBM8dPBk4QuQXDliNqbPOWzbwojWcCk8zA8gc6_WJ58U6R60eN_nF0qDa2-e2GEvY_TTzPZgti2C_ogS9M8WZatYHfZ_vxszRi2bhbtLJvLqQgdWzf3yFdlH70vkwdjfI1QG65sM15p7lijvNwiuLdK1ui_wJvyhC5p-fp2NHNqyqiu8gAr0u-5rhmX1ORt7oAVSuf5ZIFuWkvDnXx2hSMcXYLx8jgpSiUDXRWimHp9fTPvwNKVVGfjz3sNjt-tZJN4XpB9ad1bN9BAqxXFFRbKhCdKBlvxNeppsmBIiFWrRqW_a5HQ_RX8UGl8rrToOScUtYtFFjSUGLKvhgfQP_zUfpjasV7ZiQntMCb_N1dbTpZWMzkKwucFHavzMGUz30wbJow/file\n",
      "Reusing existing connection to [uc1eb63e6bf7df2a0cb97e7763b8.dl.dropboxusercontent.com]:443.\n",
      "HTTP request sent, awaiting response... 200 OK\n",
      "Length: 204751483 (195M) [application/x-tar]\n",
      "Saving to: ‘model_best.pth.tar’\n",
      "\n",
      "model_best.pth.tar  100%[===================>] 195,27M  6,94MB/s    in 38s     \n",
      "\n",
      "2022-05-20 12:47:57 (5,15 MB/s) - ‘model_best.pth.tar’ saved [204751483/204751483]\n",
      "\n",
      "Downloading...\n",
      "From: https://drive.google.com/uc?id=19D7_t3uzA_OlV4fA21Jm6bcB8GJMzPnK\n",
      "To: /Users/alexiscarras/Desktop/DEEP LEARNING II/PROJECT/dl2-cgn/cgn_framework/model_best.pth\n",
      "100%|████████████████████████████████████████| 238M/238M [00:39<00:00, 6.01MB/s]\n",
      "usage: mv [-f | -i | -n] [-v] source target\n",
      "       mv [-f | -i | -n] [-v] source ... directory\n",
      "Downloading...\n",
      "From: https://drive.google.com/uc?id=1RURmaClHfCD7tthuIqXczYs_yBK_6Lgv\n",
      "To: /Users/alexiscarras/Desktop/DEEP LEARNING II/PROJECT/dl2-cgn/cgn_framework/bg-ablation.pth\n",
      "100%|██████████████████████████████████████| 1.11G/1.11G [02:45<00:00, 6.75MB/s]\n",
      "usage: mv [-f | -i | -n] [-v] source target\n",
      "       mv [-f | -i | -n] [-v] source ... directory\n",
      "Downloading...\n",
      "From: https://drive.google.com/uc?id=10S9pYe0P7Nodkqd1igP2RirimSWv35Bt\n",
      "To: /Users/alexiscarras/Desktop/DEEP LEARNING II/PROJECT/dl2-cgn/cgn_framework/rec-ablation.pth\n",
      "100%|██████████████████████████████████████| 1.11G/1.11G [02:46<00:00, 6.69MB/s]\n",
      "usage: mv [-f | -i | -n] [-v] source target\n",
      "       mv [-f | -i | -n] [-v] source ... directory\n",
      "Downloading...\n",
      "From: https://drive.google.com/uc?id=1jk7OAqcm7Rmr3IlQKp8zXLRJGK7Jpz6n\n",
      "To: /Users/alexiscarras/Desktop/DEEP LEARNING II/PROJECT/dl2-cgn/cgn_framework/shape-ablation.pth\n",
      "100%|██████████████████████████████████████| 1.11G/1.11G [02:59<00:00, 6.20MB/s]\n",
      "usage: mv [-f | -i | -n] [-v] source target\n",
      "       mv [-f | -i | -n] [-v] source ... directory\n",
      "Downloading...\n",
      "From: https://drive.google.com/uc?id=1CaehPSrDLdSXNfgyQsDBY9RmekoGj1_2\n",
      "To: /Users/alexiscarras/Desktop/DEEP LEARNING II/PROJECT/dl2-cgn/cgn_framework/text-ablation.pth\n",
      "100%|██████████████████████████████████████| 1.11G/1.11G [02:57<00:00, 6.29MB/s]\n",
      "usage: mv [-f | -i | -n] [-v] source target\n",
      "       mv [-f | -i | -n] [-v] source ... directory\n"
     ]
    }
   ],
   "source": [
    "!python ../setup/download_weights.py"
   ]
  },
  {
   "cell_type": "markdown",
   "id": "31af44ca",
   "metadata": {},
   "source": [
    "This will download the weights for all tasks.\n",
    "\n",
    "```bash\n",
    "imagenet/weights/\n",
    "├── biggan256.pth\n",
    "├── cgn.pth\n",
    "├── u2net.pth\n",
    "├── :\n",
    "└── resnet50_from_scratch_model_best.pth.tar\n",
    "\n",
    "4 files\n",
    "```"
   ]
  },
  {
   "cell_type": "markdown",
   "id": "a462e32f-0a78-4a40-be17-423131327447",
   "metadata": {},
   "source": [
    "## Section 4.1. Reproducibility study <a class=\"anchor\" id=\"4.1\"></a>"
   ]
  },
  {
   "cell_type": "markdown",
   "id": "04761f4c",
   "metadata": {},
   "source": [
    "### Qualitative evaluation of counterfactual samples <a class=\"anchor\" id=\"qual-eval-cf-samples\"></a>\n",
    "\n",
    "**Addressed Claim: High-quality counterfactuals (HQC)**\n",
    "\n",
    "\n",
    "* Relevant section in the paper: Section 4.1.\n",
    "* Relevant figures in the paper: Figure 2 and 3 "
   ]
  },
  {
   "cell_type": "code",
   "execution_count": null,
   "id": "85e05b66",
   "metadata": {},
   "outputs": [],
   "source": [
    "from counterfactual_mnist import main as mnist_main\n",
    "from counterfactual_imagenet import main as imagenet_main"
   ]
  },
  {
   "cell_type": "code",
   "execution_count": null,
   "id": "1a9af16c",
   "metadata": {
    "tags": []
   },
   "outputs": [
    {
     "ename": "KeyboardInterrupt",
     "evalue": "",
     "output_type": "error",
     "traceback": [
      "\u001b[0;31m---------------------------------------------------------------------------\u001b[0m",
      "\u001b[0;31mKeyboardInterrupt\u001b[0m                         Traceback (most recent call last)",
      "\u001b[1;32m/Users/alexiscarras/Desktop/DEEP LEARNING II/PROJECT/dl2-cgn/experiments/final-demo.ipynb Cell 16'\u001b[0m in \u001b[0;36m<module>\u001b[0;34m\u001b[0m\n\u001b[0;32m----> <a href='vscode-notebook-cell:/Users/alexiscarras/Desktop/DEEP%20LEARNING%20II/PROJECT/dl2-cgn/experiments/final-demo.ipynb#ch0000015?line=0'>1</a>\u001b[0m mnist_main(dataset_size\u001b[39m=\u001b[39;49m\u001b[39m100\u001b[39;49m, no_cfs\u001b[39m=\u001b[39;49m\u001b[39m1\u001b[39;49m)\n",
      "File \u001b[0;32m~/Desktop/DEEP LEARNING II/PROJECT/dl2-cgn/experiments/counterfactual_mnist.py:65\u001b[0m, in \u001b[0;36mmain\u001b[0;34m(dataset_size, no_cfs)\u001b[0m\n\u001b[1;32m     <a href='file:///Users/alexiscarras/Desktop/DEEP%20LEARNING%20II/PROJECT/dl2-cgn/experiments/counterfactual_mnist.py?line=62'>63</a>\u001b[0m \u001b[39mdef\u001b[39;00m \u001b[39mmain\u001b[39m(dataset_size\u001b[39m=\u001b[39m\u001b[39m100000\u001b[39m, no_cfs\u001b[39m=\u001b[39m\u001b[39m10\u001b[39m):\n\u001b[1;32m     <a href='file:///Users/alexiscarras/Desktop/DEEP%20LEARNING%20II/PROJECT/dl2-cgn/experiments/counterfactual_mnist.py?line=63'>64</a>\u001b[0m     seed_everything(\u001b[39m13\u001b[39m)\n\u001b[0;32m---> <a href='file:///Users/alexiscarras/Desktop/DEEP%20LEARNING%20II/PROJECT/dl2-cgn/experiments/counterfactual_mnist.py?line=64'>65</a>\u001b[0m     generate_counterfactual(dataset_size\u001b[39m=\u001b[39;49mdataset_size, no_cfs\u001b[39m=\u001b[39;49mno_cfs)\n\u001b[1;32m     <a href='file:///Users/alexiscarras/Desktop/DEEP%20LEARNING%20II/PROJECT/dl2-cgn/experiments/counterfactual_mnist.py?line=66'>67</a>\u001b[0m     \u001b[39m# Plot the real and counterfactual iamges (i.e., Figure 3 of the paper).\u001b[39;00m\n\u001b[1;32m     <a href='file:///Users/alexiscarras/Desktop/DEEP%20LEARNING%20II/PROJECT/dl2-cgn/experiments/counterfactual_mnist.py?line=67'>68</a>\u001b[0m     \u001b[39mfor\u001b[39;00m dataset, weight_folder \u001b[39min\u001b[39;00m DATASETS\u001b[39m.\u001b[39mitems():\n",
      "File \u001b[0;32m~/Desktop/DEEP LEARNING II/PROJECT/dl2-cgn/experiments/counterfactual_mnist.py:41\u001b[0m, in \u001b[0;36mgenerate_counterfactual\u001b[0;34m(dataset_size, no_cfs)\u001b[0m\n\u001b[1;32m     <a href='file:///Users/alexiscarras/Desktop/DEEP%20LEARNING%20II/PROJECT/dl2-cgn/experiments/counterfactual_mnist.py?line=38'>39</a>\u001b[0m     \u001b[39mprint\u001b[39m(\u001b[39mf\u001b[39m\u001b[39m\"\u001b[39m\u001b[39m'\u001b[39m\u001b[39m{\u001b[39;00mdataset\u001b[39m}\u001b[39;00m\u001b[39m_train.pth\u001b[39m\u001b[39m'\u001b[39m\u001b[39m already exist, skipping..\u001b[39m\u001b[39m\"\u001b[39m)\n\u001b[1;32m     <a href='file:///Users/alexiscarras/Desktop/DEEP%20LEARNING%20II/PROJECT/dl2-cgn/experiments/counterfactual_mnist.py?line=39'>40</a>\u001b[0m \u001b[39melse\u001b[39;00m:\n\u001b[0;32m---> <a href='file:///Users/alexiscarras/Desktop/DEEP%20LEARNING%20II/PROJECT/dl2-cgn/experiments/counterfactual_mnist.py?line=40'>41</a>\u001b[0m     generate_dataset(dl\u001b[39m=\u001b[39;49mdl_train, path\u001b[39m=\u001b[39;49mdataset \u001b[39m+\u001b[39;49m \u001b[39m'\u001b[39;49m\u001b[39m_train.pth\u001b[39;49m\u001b[39m'\u001b[39;49m)\n\u001b[1;32m     <a href='file:///Users/alexiscarras/Desktop/DEEP%20LEARNING%20II/PROJECT/dl2-cgn/experiments/counterfactual_mnist.py?line=42'>43</a>\u001b[0m \u001b[39mif\u001b[39;00m os\u001b[39m.\u001b[39mpath\u001b[39m.\u001b[39mexists(\u001b[39mf\u001b[39m\u001b[39m\"\u001b[39m\u001b[39mmnists/data/\u001b[39m\u001b[39m{\u001b[39;00mdataset\u001b[39m}\u001b[39;00m\u001b[39m_test.pth\u001b[39m\u001b[39m\"\u001b[39m):\n\u001b[1;32m     <a href='file:///Users/alexiscarras/Desktop/DEEP%20LEARNING%20II/PROJECT/dl2-cgn/experiments/counterfactual_mnist.py?line=43'>44</a>\u001b[0m     \u001b[39mprint\u001b[39m(\u001b[39mf\u001b[39m\u001b[39m\"\u001b[39m\u001b[39m'\u001b[39m\u001b[39m{\u001b[39;00mdataset\u001b[39m}\u001b[39;00m\u001b[39m_test.pth\u001b[39m\u001b[39m'\u001b[39m\u001b[39m already exist, skipping..\u001b[39m\u001b[39m\"\u001b[39m)\n",
      "File \u001b[0;32m~/Desktop/DEEP LEARNING II/PROJECT/dl2-cgn/cgn_framework/mnists/generate_data.py:63\u001b[0m, in \u001b[0;36mgenerate_dataset\u001b[0;34m(dl, path)\u001b[0m\n\u001b[1;32m     <a href='file:///Users/alexiscarras/Desktop/DEEP%20LEARNING%20II/PROJECT/dl2-cgn/cgn_framework/mnists/generate_data.py?line=60'>61</a>\u001b[0m \u001b[39mdef\u001b[39;00m \u001b[39mgenerate_dataset\u001b[39m(dl, path):\n\u001b[1;32m     <a href='file:///Users/alexiscarras/Desktop/DEEP%20LEARNING%20II/PROJECT/dl2-cgn/cgn_framework/mnists/generate_data.py?line=61'>62</a>\u001b[0m     x, y \u001b[39m=\u001b[39m [], []\n\u001b[0;32m---> <a href='file:///Users/alexiscarras/Desktop/DEEP%20LEARNING%20II/PROJECT/dl2-cgn/cgn_framework/mnists/generate_data.py?line=62'>63</a>\u001b[0m     \u001b[39mfor\u001b[39;00m data \u001b[39min\u001b[39;00m dl:\n\u001b[1;32m     <a href='file:///Users/alexiscarras/Desktop/DEEP%20LEARNING%20II/PROJECT/dl2-cgn/cgn_framework/mnists/generate_data.py?line=63'>64</a>\u001b[0m         x\u001b[39m.\u001b[39mappend(data[\u001b[39m'\u001b[39m\u001b[39mims\u001b[39m\u001b[39m'\u001b[39m]\u001b[39m.\u001b[39mcpu())\n\u001b[1;32m     <a href='file:///Users/alexiscarras/Desktop/DEEP%20LEARNING%20II/PROJECT/dl2-cgn/cgn_framework/mnists/generate_data.py?line=64'>65</a>\u001b[0m         y\u001b[39m.\u001b[39mappend(data[\u001b[39m'\u001b[39m\u001b[39mlabels\u001b[39m\u001b[39m'\u001b[39m]\u001b[39m.\u001b[39mcpu())\n",
      "File \u001b[0;32m~/opt/anaconda3/envs/cgn-cpu/lib/python3.9/site-packages/torch/utils/data/dataloader.py:359\u001b[0m, in \u001b[0;36mDataLoader.__iter__\u001b[0;34m(self)\u001b[0m\n\u001b[1;32m    <a href='file:///Users/alexiscarras/opt/anaconda3/envs/cgn-cpu/lib/python3.9/site-packages/torch/utils/data/dataloader.py?line=356'>357</a>\u001b[0m     \u001b[39mreturn\u001b[39;00m \u001b[39mself\u001b[39m\u001b[39m.\u001b[39m_iterator\n\u001b[1;32m    <a href='file:///Users/alexiscarras/opt/anaconda3/envs/cgn-cpu/lib/python3.9/site-packages/torch/utils/data/dataloader.py?line=357'>358</a>\u001b[0m \u001b[39melse\u001b[39;00m:\n\u001b[0;32m--> <a href='file:///Users/alexiscarras/opt/anaconda3/envs/cgn-cpu/lib/python3.9/site-packages/torch/utils/data/dataloader.py?line=358'>359</a>\u001b[0m     \u001b[39mreturn\u001b[39;00m \u001b[39mself\u001b[39;49m\u001b[39m.\u001b[39;49m_get_iterator()\n",
      "File \u001b[0;32m~/opt/anaconda3/envs/cgn-cpu/lib/python3.9/site-packages/torch/utils/data/dataloader.py:305\u001b[0m, in \u001b[0;36mDataLoader._get_iterator\u001b[0;34m(self)\u001b[0m\n\u001b[1;32m    <a href='file:///Users/alexiscarras/opt/anaconda3/envs/cgn-cpu/lib/python3.9/site-packages/torch/utils/data/dataloader.py?line=302'>303</a>\u001b[0m \u001b[39melse\u001b[39;00m:\n\u001b[1;32m    <a href='file:///Users/alexiscarras/opt/anaconda3/envs/cgn-cpu/lib/python3.9/site-packages/torch/utils/data/dataloader.py?line=303'>304</a>\u001b[0m     \u001b[39mself\u001b[39m\u001b[39m.\u001b[39mcheck_worker_number_rationality()\n\u001b[0;32m--> <a href='file:///Users/alexiscarras/opt/anaconda3/envs/cgn-cpu/lib/python3.9/site-packages/torch/utils/data/dataloader.py?line=304'>305</a>\u001b[0m     \u001b[39mreturn\u001b[39;00m _MultiProcessingDataLoaderIter(\u001b[39mself\u001b[39;49m)\n",
      "File \u001b[0;32m~/opt/anaconda3/envs/cgn-cpu/lib/python3.9/site-packages/torch/utils/data/dataloader.py:918\u001b[0m, in \u001b[0;36m_MultiProcessingDataLoaderIter.__init__\u001b[0;34m(self, loader)\u001b[0m\n\u001b[1;32m    <a href='file:///Users/alexiscarras/opt/anaconda3/envs/cgn-cpu/lib/python3.9/site-packages/torch/utils/data/dataloader.py?line=910'>911</a>\u001b[0m w\u001b[39m.\u001b[39mdaemon \u001b[39m=\u001b[39m \u001b[39mTrue\u001b[39;00m\n\u001b[1;32m    <a href='file:///Users/alexiscarras/opt/anaconda3/envs/cgn-cpu/lib/python3.9/site-packages/torch/utils/data/dataloader.py?line=911'>912</a>\u001b[0m \u001b[39m# NB: Process.start() actually take some time as it needs to\u001b[39;00m\n\u001b[1;32m    <a href='file:///Users/alexiscarras/opt/anaconda3/envs/cgn-cpu/lib/python3.9/site-packages/torch/utils/data/dataloader.py?line=912'>913</a>\u001b[0m \u001b[39m#     start a process and pass the arguments over via a pipe.\u001b[39;00m\n\u001b[1;32m    <a href='file:///Users/alexiscarras/opt/anaconda3/envs/cgn-cpu/lib/python3.9/site-packages/torch/utils/data/dataloader.py?line=913'>914</a>\u001b[0m \u001b[39m#     Therefore, we only add a worker to self._workers list after\u001b[39;00m\n\u001b[1;32m    <a href='file:///Users/alexiscarras/opt/anaconda3/envs/cgn-cpu/lib/python3.9/site-packages/torch/utils/data/dataloader.py?line=914'>915</a>\u001b[0m \u001b[39m#     it started, so that we do not call .join() if program dies\u001b[39;00m\n\u001b[1;32m    <a href='file:///Users/alexiscarras/opt/anaconda3/envs/cgn-cpu/lib/python3.9/site-packages/torch/utils/data/dataloader.py?line=915'>916</a>\u001b[0m \u001b[39m#     before it starts, and __del__ tries to join but will get:\u001b[39;00m\n\u001b[1;32m    <a href='file:///Users/alexiscarras/opt/anaconda3/envs/cgn-cpu/lib/python3.9/site-packages/torch/utils/data/dataloader.py?line=916'>917</a>\u001b[0m \u001b[39m#     AssertionError: can only join a started process.\u001b[39;00m\n\u001b[0;32m--> <a href='file:///Users/alexiscarras/opt/anaconda3/envs/cgn-cpu/lib/python3.9/site-packages/torch/utils/data/dataloader.py?line=917'>918</a>\u001b[0m w\u001b[39m.\u001b[39;49mstart()\n\u001b[1;32m    <a href='file:///Users/alexiscarras/opt/anaconda3/envs/cgn-cpu/lib/python3.9/site-packages/torch/utils/data/dataloader.py?line=918'>919</a>\u001b[0m \u001b[39mself\u001b[39m\u001b[39m.\u001b[39m_index_queues\u001b[39m.\u001b[39mappend(index_queue)\n\u001b[1;32m    <a href='file:///Users/alexiscarras/opt/anaconda3/envs/cgn-cpu/lib/python3.9/site-packages/torch/utils/data/dataloader.py?line=919'>920</a>\u001b[0m \u001b[39mself\u001b[39m\u001b[39m.\u001b[39m_workers\u001b[39m.\u001b[39mappend(w)\n",
      "File \u001b[0;32m~/opt/anaconda3/envs/cgn-cpu/lib/python3.9/multiprocessing/process.py:121\u001b[0m, in \u001b[0;36mBaseProcess.start\u001b[0;34m(self)\u001b[0m\n\u001b[1;32m    <a href='file:///Users/alexiscarras/opt/anaconda3/envs/cgn-cpu/lib/python3.9/multiprocessing/process.py?line=117'>118</a>\u001b[0m \u001b[39massert\u001b[39;00m \u001b[39mnot\u001b[39;00m _current_process\u001b[39m.\u001b[39m_config\u001b[39m.\u001b[39mget(\u001b[39m'\u001b[39m\u001b[39mdaemon\u001b[39m\u001b[39m'\u001b[39m), \\\n\u001b[1;32m    <a href='file:///Users/alexiscarras/opt/anaconda3/envs/cgn-cpu/lib/python3.9/multiprocessing/process.py?line=118'>119</a>\u001b[0m        \u001b[39m'\u001b[39m\u001b[39mdaemonic processes are not allowed to have children\u001b[39m\u001b[39m'\u001b[39m\n\u001b[1;32m    <a href='file:///Users/alexiscarras/opt/anaconda3/envs/cgn-cpu/lib/python3.9/multiprocessing/process.py?line=119'>120</a>\u001b[0m _cleanup()\n\u001b[0;32m--> <a href='file:///Users/alexiscarras/opt/anaconda3/envs/cgn-cpu/lib/python3.9/multiprocessing/process.py?line=120'>121</a>\u001b[0m \u001b[39mself\u001b[39m\u001b[39m.\u001b[39m_popen \u001b[39m=\u001b[39m \u001b[39mself\u001b[39;49m\u001b[39m.\u001b[39;49m_Popen(\u001b[39mself\u001b[39;49m)\n\u001b[1;32m    <a href='file:///Users/alexiscarras/opt/anaconda3/envs/cgn-cpu/lib/python3.9/multiprocessing/process.py?line=121'>122</a>\u001b[0m \u001b[39mself\u001b[39m\u001b[39m.\u001b[39m_sentinel \u001b[39m=\u001b[39m \u001b[39mself\u001b[39m\u001b[39m.\u001b[39m_popen\u001b[39m.\u001b[39msentinel\n\u001b[1;32m    <a href='file:///Users/alexiscarras/opt/anaconda3/envs/cgn-cpu/lib/python3.9/multiprocessing/process.py?line=122'>123</a>\u001b[0m \u001b[39m# Avoid a refcycle if the target function holds an indirect\u001b[39;00m\n\u001b[1;32m    <a href='file:///Users/alexiscarras/opt/anaconda3/envs/cgn-cpu/lib/python3.9/multiprocessing/process.py?line=123'>124</a>\u001b[0m \u001b[39m# reference to the process object (see bpo-30775)\u001b[39;00m\n",
      "File \u001b[0;32m~/opt/anaconda3/envs/cgn-cpu/lib/python3.9/multiprocessing/context.py:224\u001b[0m, in \u001b[0;36mProcess._Popen\u001b[0;34m(process_obj)\u001b[0m\n\u001b[1;32m    <a href='file:///Users/alexiscarras/opt/anaconda3/envs/cgn-cpu/lib/python3.9/multiprocessing/context.py?line=221'>222</a>\u001b[0m \u001b[39m@staticmethod\u001b[39m\n\u001b[1;32m    <a href='file:///Users/alexiscarras/opt/anaconda3/envs/cgn-cpu/lib/python3.9/multiprocessing/context.py?line=222'>223</a>\u001b[0m \u001b[39mdef\u001b[39;00m \u001b[39m_Popen\u001b[39m(process_obj):\n\u001b[0;32m--> <a href='file:///Users/alexiscarras/opt/anaconda3/envs/cgn-cpu/lib/python3.9/multiprocessing/context.py?line=223'>224</a>\u001b[0m     \u001b[39mreturn\u001b[39;00m _default_context\u001b[39m.\u001b[39;49mget_context()\u001b[39m.\u001b[39;49mProcess\u001b[39m.\u001b[39;49m_Popen(process_obj)\n",
      "File \u001b[0;32m~/opt/anaconda3/envs/cgn-cpu/lib/python3.9/multiprocessing/context.py:284\u001b[0m, in \u001b[0;36mSpawnProcess._Popen\u001b[0;34m(process_obj)\u001b[0m\n\u001b[1;32m    <a href='file:///Users/alexiscarras/opt/anaconda3/envs/cgn-cpu/lib/python3.9/multiprocessing/context.py?line=280'>281</a>\u001b[0m \u001b[39m@staticmethod\u001b[39m\n\u001b[1;32m    <a href='file:///Users/alexiscarras/opt/anaconda3/envs/cgn-cpu/lib/python3.9/multiprocessing/context.py?line=281'>282</a>\u001b[0m \u001b[39mdef\u001b[39;00m \u001b[39m_Popen\u001b[39m(process_obj):\n\u001b[1;32m    <a href='file:///Users/alexiscarras/opt/anaconda3/envs/cgn-cpu/lib/python3.9/multiprocessing/context.py?line=282'>283</a>\u001b[0m     \u001b[39mfrom\u001b[39;00m \u001b[39m.\u001b[39;00m\u001b[39mpopen_spawn_posix\u001b[39;00m \u001b[39mimport\u001b[39;00m Popen\n\u001b[0;32m--> <a href='file:///Users/alexiscarras/opt/anaconda3/envs/cgn-cpu/lib/python3.9/multiprocessing/context.py?line=283'>284</a>\u001b[0m     \u001b[39mreturn\u001b[39;00m Popen(process_obj)\n",
      "File \u001b[0;32m~/opt/anaconda3/envs/cgn-cpu/lib/python3.9/multiprocessing/popen_spawn_posix.py:32\u001b[0m, in \u001b[0;36mPopen.__init__\u001b[0;34m(self, process_obj)\u001b[0m\n\u001b[1;32m     <a href='file:///Users/alexiscarras/opt/anaconda3/envs/cgn-cpu/lib/python3.9/multiprocessing/popen_spawn_posix.py?line=29'>30</a>\u001b[0m \u001b[39mdef\u001b[39;00m \u001b[39m__init__\u001b[39m(\u001b[39mself\u001b[39m, process_obj):\n\u001b[1;32m     <a href='file:///Users/alexiscarras/opt/anaconda3/envs/cgn-cpu/lib/python3.9/multiprocessing/popen_spawn_posix.py?line=30'>31</a>\u001b[0m     \u001b[39mself\u001b[39m\u001b[39m.\u001b[39m_fds \u001b[39m=\u001b[39m []\n\u001b[0;32m---> <a href='file:///Users/alexiscarras/opt/anaconda3/envs/cgn-cpu/lib/python3.9/multiprocessing/popen_spawn_posix.py?line=31'>32</a>\u001b[0m     \u001b[39msuper\u001b[39;49m()\u001b[39m.\u001b[39;49m\u001b[39m__init__\u001b[39;49m(process_obj)\n",
      "File \u001b[0;32m~/opt/anaconda3/envs/cgn-cpu/lib/python3.9/multiprocessing/popen_fork.py:19\u001b[0m, in \u001b[0;36mPopen.__init__\u001b[0;34m(self, process_obj)\u001b[0m\n\u001b[1;32m     <a href='file:///Users/alexiscarras/opt/anaconda3/envs/cgn-cpu/lib/python3.9/multiprocessing/popen_fork.py?line=16'>17</a>\u001b[0m \u001b[39mself\u001b[39m\u001b[39m.\u001b[39mreturncode \u001b[39m=\u001b[39m \u001b[39mNone\u001b[39;00m\n\u001b[1;32m     <a href='file:///Users/alexiscarras/opt/anaconda3/envs/cgn-cpu/lib/python3.9/multiprocessing/popen_fork.py?line=17'>18</a>\u001b[0m \u001b[39mself\u001b[39m\u001b[39m.\u001b[39mfinalizer \u001b[39m=\u001b[39m \u001b[39mNone\u001b[39;00m\n\u001b[0;32m---> <a href='file:///Users/alexiscarras/opt/anaconda3/envs/cgn-cpu/lib/python3.9/multiprocessing/popen_fork.py?line=18'>19</a>\u001b[0m \u001b[39mself\u001b[39;49m\u001b[39m.\u001b[39;49m_launch(process_obj)\n",
      "File \u001b[0;32m~/opt/anaconda3/envs/cgn-cpu/lib/python3.9/multiprocessing/popen_spawn_posix.py:47\u001b[0m, in \u001b[0;36mPopen._launch\u001b[0;34m(self, process_obj)\u001b[0m\n\u001b[1;32m     <a href='file:///Users/alexiscarras/opt/anaconda3/envs/cgn-cpu/lib/python3.9/multiprocessing/popen_spawn_posix.py?line=44'>45</a>\u001b[0m \u001b[39mtry\u001b[39;00m:\n\u001b[1;32m     <a href='file:///Users/alexiscarras/opt/anaconda3/envs/cgn-cpu/lib/python3.9/multiprocessing/popen_spawn_posix.py?line=45'>46</a>\u001b[0m     reduction\u001b[39m.\u001b[39mdump(prep_data, fp)\n\u001b[0;32m---> <a href='file:///Users/alexiscarras/opt/anaconda3/envs/cgn-cpu/lib/python3.9/multiprocessing/popen_spawn_posix.py?line=46'>47</a>\u001b[0m     reduction\u001b[39m.\u001b[39;49mdump(process_obj, fp)\n\u001b[1;32m     <a href='file:///Users/alexiscarras/opt/anaconda3/envs/cgn-cpu/lib/python3.9/multiprocessing/popen_spawn_posix.py?line=47'>48</a>\u001b[0m \u001b[39mfinally\u001b[39;00m:\n\u001b[1;32m     <a href='file:///Users/alexiscarras/opt/anaconda3/envs/cgn-cpu/lib/python3.9/multiprocessing/popen_spawn_posix.py?line=48'>49</a>\u001b[0m     set_spawning_popen(\u001b[39mNone\u001b[39;00m)\n",
      "File \u001b[0;32m~/opt/anaconda3/envs/cgn-cpu/lib/python3.9/multiprocessing/reduction.py:60\u001b[0m, in \u001b[0;36mdump\u001b[0;34m(obj, file, protocol)\u001b[0m\n\u001b[1;32m     <a href='file:///Users/alexiscarras/opt/anaconda3/envs/cgn-cpu/lib/python3.9/multiprocessing/reduction.py?line=57'>58</a>\u001b[0m \u001b[39mdef\u001b[39;00m \u001b[39mdump\u001b[39m(obj, file, protocol\u001b[39m=\u001b[39m\u001b[39mNone\u001b[39;00m):\n\u001b[1;32m     <a href='file:///Users/alexiscarras/opt/anaconda3/envs/cgn-cpu/lib/python3.9/multiprocessing/reduction.py?line=58'>59</a>\u001b[0m     \u001b[39m'''Replacement for pickle.dump() using ForkingPickler.'''\u001b[39;00m\n\u001b[0;32m---> <a href='file:///Users/alexiscarras/opt/anaconda3/envs/cgn-cpu/lib/python3.9/multiprocessing/reduction.py?line=59'>60</a>\u001b[0m     ForkingPickler(file, protocol)\u001b[39m.\u001b[39;49mdump(obj)\n",
      "File \u001b[0;32m~/opt/anaconda3/envs/cgn-cpu/lib/python3.9/site-packages/numpy/core/__init__.py:144\u001b[0m, in \u001b[0;36m_DType_reduce\u001b[0;34m(DType)\u001b[0m\n\u001b[1;32m    <a href='file:///Users/alexiscarras/opt/anaconda3/envs/cgn-cpu/lib/python3.9/site-packages/numpy/core/__init__.py?line=136'>137</a>\u001b[0m \u001b[39mdef\u001b[39;00m \u001b[39m_DType_reconstruct\u001b[39m(scalar_type):\n\u001b[1;32m    <a href='file:///Users/alexiscarras/opt/anaconda3/envs/cgn-cpu/lib/python3.9/site-packages/numpy/core/__init__.py?line=137'>138</a>\u001b[0m     \u001b[39m# This is a work-around to pickle type(np.dtype(np.float64)), etc.\u001b[39;00m\n\u001b[1;32m    <a href='file:///Users/alexiscarras/opt/anaconda3/envs/cgn-cpu/lib/python3.9/site-packages/numpy/core/__init__.py?line=138'>139</a>\u001b[0m     \u001b[39m# and it should eventually be replaced with a better solution, e.g. when\u001b[39;00m\n\u001b[1;32m    <a href='file:///Users/alexiscarras/opt/anaconda3/envs/cgn-cpu/lib/python3.9/site-packages/numpy/core/__init__.py?line=139'>140</a>\u001b[0m     \u001b[39m# DTypes become HeapTypes.\u001b[39;00m\n\u001b[1;32m    <a href='file:///Users/alexiscarras/opt/anaconda3/envs/cgn-cpu/lib/python3.9/site-packages/numpy/core/__init__.py?line=140'>141</a>\u001b[0m     \u001b[39mreturn\u001b[39;00m \u001b[39mtype\u001b[39m(dtype(scalar_type))\n\u001b[0;32m--> <a href='file:///Users/alexiscarras/opt/anaconda3/envs/cgn-cpu/lib/python3.9/site-packages/numpy/core/__init__.py?line=143'>144</a>\u001b[0m \u001b[39mdef\u001b[39;00m \u001b[39m_DType_reduce\u001b[39m(DType):\n\u001b[1;32m    <a href='file:///Users/alexiscarras/opt/anaconda3/envs/cgn-cpu/lib/python3.9/site-packages/numpy/core/__init__.py?line=144'>145</a>\u001b[0m     \u001b[39m# To pickle a DType without having to add top-level names, pickle the\u001b[39;00m\n\u001b[1;32m    <a href='file:///Users/alexiscarras/opt/anaconda3/envs/cgn-cpu/lib/python3.9/site-packages/numpy/core/__init__.py?line=145'>146</a>\u001b[0m     \u001b[39m# scalar type for now (and assume that reconstruction will be possible).\u001b[39;00m\n\u001b[1;32m    <a href='file:///Users/alexiscarras/opt/anaconda3/envs/cgn-cpu/lib/python3.9/site-packages/numpy/core/__init__.py?line=146'>147</a>\u001b[0m     \u001b[39mif\u001b[39;00m DType \u001b[39mis\u001b[39;00m dtype:\n\u001b[1;32m    <a href='file:///Users/alexiscarras/opt/anaconda3/envs/cgn-cpu/lib/python3.9/site-packages/numpy/core/__init__.py?line=147'>148</a>\u001b[0m         \u001b[39mreturn\u001b[39;00m \u001b[39m\"\u001b[39m\u001b[39mdtype\u001b[39m\u001b[39m\"\u001b[39m  \u001b[39m# must pickle `np.dtype` as a singleton.\u001b[39;00m\n",
      "\u001b[0;31mKeyboardInterrupt\u001b[0m: "
     ]
    }
   ],
   "source": [
    "mnist_main(dataset_size=100, no_cfs=1)"
   ]
  },
  {
   "cell_type": "code",
   "execution_count": null,
   "id": "1ef1eb74-62ad-4465-b88c-f542b1bd0be7",
   "metadata": {
    "tags": []
   },
   "outputs": [
    {
     "name": "stdout",
     "output_type": "stream",
     "text": [
      "Saving data to imagenet/data/2022_05_19_12_RUN_NAME_trunc_0.5\n"
     ]
    },
    {
     "name": "stderr",
     "output_type": "stream",
     "text": [
      "100%|██████████| 6/6 [02:34<00:00, 25.81s/it]\n"
     ]
    },
    {
     "name": "stdout",
     "output_type": "stream",
     "text": [
      "                        0            1            2                3  \\\n",
      "shape_cls           racer  trench coat   mud turtle             vase   \n",
      "texture_cls  analog clock          cab  cauliflower  Indian elephant   \n",
      "bg_cls             toucan   coral reef     mushroom              alp   \n",
      "\n",
      "                         4           5  \n",
      "shape_cls         malinois      barrel  \n",
      "texture_cls   horned viper  piggy bank  \n",
      "bg_cls       garden spider        ibex  \n",
      "\n",
      "--= Generated LaTeX table: =--\n",
      "\\begin{tabular}{lllllll}\n",
      "\\toprule\n",
      "shape\\_cls   &         racer &  trench coat &   mud turtle &             vase &       malinois &      barrel \\\\\n",
      "texture\\_cls &  analog clock &          cab &  cauliflower &  Indian elephant &   horned viper &  piggy bank \\\\\n",
      "bg\\_cls      &        toucan &   coral reef &     mushroom &              alp &  garden spider &        ibex \\\\\n",
      "\\bottomrule\n",
      "\\end{tabular}\n",
      "\n",
      "Saving counterfactuals plot to /home/lcur1334/dl2-cgn/media/figures/qualitative/qualitative_imagenet.pdf..\n"
     ]
    },
    {
     "data": {
      "image/png": "[encoded data removed]",
      "text/plain": [
       "<Figure size 432x288 with 1 Axes>"
      ]
     },
     "metadata": {
      "needs_background": "light"
     },
     "output_type": "display_data"
    }
   ],
   "source": [
    "imagenet_main()"
   ]
  },
  {
   "cell_type": "markdown",
   "id": "9b167ec5-d212-466f-a91f-cdc19fba5a7f",
   "metadata": {},
   "source": [
    "### Evaluating invariant classifiers <a class=\"anchor\" id=\"eval-inv-clf\"></a>\n",
    "\n",
    "**Addressed Claim: Out-of-Distribution Robustness (ODR)**"
   ]
  },
  {
   "cell_type": "markdown",
   "id": "6dcbad18-5cdf-4a1c-b996-53195e306ffb",
   "metadata": {},
   "source": [
    "#### Experiments on MNISTs <a class=\"anchor\" id=\"repr-mnist\"></a>\n",
    "\n",
    "* Relevant tables in paper: Table 2"
   ]
  },
  {
   "cell_type": "markdown",
   "id": "0a40779b-6ec0-4857-a4fe-2e725f38f4d2",
   "metadata": {},
   "source": [
    "**Step 1**: Prepation - Run experiments on GPUs before visualizing results\n",
    "\n",
    "> **Note**: It might take a long time to run this on a CPU machine (~40 mins). Instead, we would recommend\n",
    "> running it on a GPU machine using the following instructions. That will run and generate all results\n",
    "> and then you could run the cell below which will display all the results. We give instructions to run on a cluster managed by `Slurm`. In case you can get terminal access to GPU machines, you can run the individual scripts (look at the job files to check the commands)."
   ]
  },
  {
   "cell_type": "markdown",
   "id": "86417a73-9d8e-4eb0-adc1-83eaf5655767",
   "metadata": {},
   "source": [
    "**Running using cached models wherever necessary**\n",
    "\n",
    "Follow the instruction to run it on a GPU on a cluster. \n",
    "\n",
    "1. We have created a job script `run_mnist.job`.\n",
    "    Please change it appropriately, if needed, to run on a GPU.\n",
    "\n",
    "2. Run the job script using \n",
    "\n",
    "    ```sh\n",
    "    cd /path/to/repo/experiments/\n",
    "    sbatch run_mnist.job\n",
    "    ```\n",
    "    You can check logs in `slurm_output_*.out` files.\n",
    "\n",
    "3. After these steps are done, you can run the following cells that will display the result.\n",
    "\n",
    "> This step takes about 20-25 mins to run on a GPU with 2 CPUs. Please let this step finish before running the cells.\n",
    "\n",
    "\n",
    "**Re-running without using any cached models.**\n",
    "\n",
    "The previous steps will generate CF data and load classification results from cache. If you want to run all these steps from scratch, you need to change `ignore_cache=True` in the following line in `mnist_pipeline.py` and follow the same steps as above.\n",
    "```python\n",
    "df = run_experiments(seed=0, ignore_cache=False)\n",
    "```\n",
    "You do not need to change the cell below."
   ]
  },
  {
   "cell_type": "markdown",
   "id": "3b9780c0-6b81-44f6-a753-f1314fefa84f",
   "metadata": {},
   "source": [
    "**Step 2**: Replication of Table 2"
   ]
  },
  {
   "cell_type": "code",
   "execution_count": null,
   "id": "fcb0dd2a-e0ac-4607-8e60-ac7c62a2cadd",
   "metadata": {},
   "outputs": [],
   "source": [
    "from mnist_pipeline import run_experiments"
   ]
  },
  {
   "cell_type": "code",
   "execution_count": null,
   "id": "d549c5c3-37ed-4af3-ae17-ce89feac6857",
   "metadata": {},
   "outputs": [
    {
     "name": "stdout",
     "output_type": "stream",
     "text": [
      "::::: Experimental setup :::::\n",
      "Train generative model: False\n",
      "Generate data: True\n",
      "Args: {'seed': 0, 'dataset': 'colored_MNIST'}\n",
      "Train Dataset already generated at /home/lcur1334/dl2-cgn/cgn_framework/mnists/data/colored_MNIST_train.pth.\n",
      "Test Dataset already generated at /home/lcur1334/dl2-cgn/cgn_framework/mnists/data/colored_MNIST_test.pth.\n",
      "Results for classifier already exist: mnists/experiments/classifier_colored_MNIST_seed_0/test_accs.pth\n",
      "::::: Experimental setup :::::\n",
      "Train generative model: False\n",
      "Generate data: True\n",
      "Args: {'seed': 0, 'dataset': 'colored_MNIST', 'weight_path': '/home/lcur1334/dl2-cgn/cgn_framework/mnists/experiments/gan_colored_MNIST/weights/ckp.pth'}\n",
      "Dataset already generated at /home/lcur1334/dl2-cgn/cgn_framework/mnists/data/colored_MNIST_gan.pth.\n",
      "Results for classifier already exist: mnists/experiments/classifier_colored_MNIST_gan_seed_0/test_accs.pth\n",
      "::::: Experimental setup :::::\n",
      "Train generative model: False\n",
      "Generate data: True\n",
      "Args: {'seed': 0, 'dataset': 'colored_MNIST', 'weight_path': '/home/lcur1334/dl2-cgn/cgn_framework/mnists/experiments/cgn_colored_MNIST/weights/ckp.pth'}\n",
      "Dataset already generated at /home/lcur1334/dl2-cgn/cgn_framework/mnists/data/colored_MNIST_counterfactual.pth.\n",
      "Results for classifier already exist: mnists/experiments/classifier_colored_MNIST_counterfactual_seed_0/test_accs.pth\n",
      "::::: Experimental setup :::::\n",
      "Train generative model: False\n",
      "Generate data: True\n",
      "Args: {'seed': 0, 'dataset': 'colored_MNIST', 'weight_path': '/home/lcur1334/dl2-cgn/cgn_framework/mnists/experiments/gan_colored_MNIST/weights/ckp.pth', 'combined': True}\n",
      "Dataset already generated at /home/lcur1334/dl2-cgn/cgn_framework/mnists/data/colored_MNIST_gan.pth.\n",
      "Results for classifier already exist: mnists/experiments/classifier_colored_MNIST_gan_combined_seed_0/test_accs.pth\n",
      "::::: Experimental setup :::::\n",
      "Train generative model: False\n",
      "Generate data: True\n",
      "Args: {'seed': 0, 'dataset': 'colored_MNIST', 'weight_path': '/home/lcur1334/dl2-cgn/cgn_framework/mnists/experiments/cgn_colored_MNIST/weights/ckp.pth', 'combined': True}\n",
      "Dataset already generated at /home/lcur1334/dl2-cgn/cgn_framework/mnists/data/colored_MNIST_counterfactual.pth.\n",
      "Results for classifier already exist: mnists/experiments/classifier_colored_MNIST_counterfactual_combined_seed_0/test_accs.pth\n",
      "::::: Experimental setup :::::\n",
      "Train generative model: False\n",
      "Generate data: True\n",
      "Args: {'seed': 0, 'dataset': 'double_colored_MNIST'}\n",
      "Train Dataset already generated at /home/lcur1334/dl2-cgn/cgn_framework/mnists/data/double_colored_MNIST_train.pth.\n",
      "Test Dataset already generated at /home/lcur1334/dl2-cgn/cgn_framework/mnists/data/double_colored_MNIST_test.pth.\n",
      "Results for classifier already exist: mnists/experiments/classifier_double_colored_MNIST_seed_0/test_accs.pth\n",
      "::::: Experimental setup :::::\n",
      "Train generative model: False\n",
      "Generate data: True\n",
      "Args: {'seed': 0, 'dataset': 'double_colored_MNIST', 'weight_path': '/home/lcur1334/dl2-cgn/cgn_framework/mnists/experiments/gan_double_colored_MNIST/weights/ckp.pth'}\n",
      "Dataset already generated at /home/lcur1334/dl2-cgn/cgn_framework/mnists/data/double_colored_MNIST_gan.pth.\n",
      "Results for classifier already exist: mnists/experiments/classifier_double_colored_MNIST_gan_seed_0/test_accs.pth\n",
      "::::: Experimental setup :::::\n",
      "Train generative model: False\n",
      "Generate data: True\n",
      "Args: {'seed': 0, 'dataset': 'double_colored_MNIST', 'weight_path': '/home/lcur1334/dl2-cgn/cgn_framework/mnists/experiments/cgn_double_colored_MNIST/weights/ckp.pth'}\n",
      "Dataset already generated at /home/lcur1334/dl2-cgn/cgn_framework/mnists/data/double_colored_MNIST_counterfactual.pth.\n",
      "Results for classifier already exist: mnists/experiments/classifier_double_colored_MNIST_counterfactual_seed_0/test_accs.pth\n",
      "::::: Experimental setup :::::\n",
      "Train generative model: False\n",
      "Generate data: True\n",
      "Args: {'seed': 0, 'dataset': 'double_colored_MNIST', 'weight_path': '/home/lcur1334/dl2-cgn/cgn_framework/mnists/experiments/gan_double_colored_MNIST/weights/ckp.pth', 'combined': True}\n",
      "Dataset already generated at /home/lcur1334/dl2-cgn/cgn_framework/mnists/data/double_colored_MNIST_gan.pth.\n",
      "Results for classifier already exist: mnists/experiments/classifier_double_colored_MNIST_gan_combined_seed_0/test_accs.pth\n",
      "::::: Experimental setup :::::\n",
      "Train generative model: False\n",
      "Generate data: True\n",
      "Args: {'seed': 0, 'dataset': 'double_colored_MNIST', 'weight_path': '/home/lcur1334/dl2-cgn/cgn_framework/mnists/experiments/cgn_double_colored_MNIST/weights/ckp.pth', 'combined': True}\n",
      "Dataset already generated at /home/lcur1334/dl2-cgn/cgn_framework/mnists/data/double_colored_MNIST_counterfactual.pth.\n",
      "Results for classifier already exist: mnists/experiments/classifier_double_colored_MNIST_counterfactual_combined_seed_0/test_accs.pth\n",
      "::::: Experimental setup :::::\n",
      "Train generative model: False\n",
      "Generate data: True\n",
      "Args: {'seed': 0, 'dataset': 'wildlife_MNIST'}\n",
      "Train Dataset already generated at /home/lcur1334/dl2-cgn/cgn_framework/mnists/data/wildlife_MNIST_train.pth.\n",
      "Test Dataset already generated at /home/lcur1334/dl2-cgn/cgn_framework/mnists/data/wildlife_MNIST_test.pth.\n",
      "Results for classifier already exist: mnists/experiments/classifier_wildlife_MNIST_seed_0/test_accs.pth\n",
      "::::: Experimental setup :::::\n",
      "Train generative model: False\n",
      "Generate data: True\n",
      "Args: {'seed': 0, 'dataset': 'wildlife_MNIST', 'weight_path': '/home/lcur1334/dl2-cgn/cgn_framework/mnists/experiments/gan_wildlife_MNIST/weights/ckp.pth'}\n",
      "Dataset already generated at /home/lcur1334/dl2-cgn/cgn_framework/mnists/data/wildlife_MNIST_gan.pth.\n",
      "Results for classifier already exist: mnists/experiments/classifier_wildlife_MNIST_gan_seed_0/test_accs.pth\n",
      "::::: Experimental setup :::::\n",
      "Train generative model: False\n",
      "Generate data: True\n",
      "Args: {'seed': 0, 'dataset': 'wildlife_MNIST', 'weight_path': '/home/lcur1334/dl2-cgn/cgn_framework/mnists/experiments/cgn_wildlife_MNIST/weights/ckp.pth'}\n",
      "Dataset already generated at /home/lcur1334/dl2-cgn/cgn_framework/mnists/data/wildlife_MNIST_counterfactual.pth.\n",
      "Results for classifier already exist: mnists/experiments/classifier_wildlife_MNIST_counterfactual_seed_0/test_accs.pth\n",
      "::::: Experimental setup :::::\n",
      "Train generative model: False\n",
      "Generate data: True\n",
      "Args: {'seed': 0, 'dataset': 'wildlife_MNIST', 'weight_path': '/home/lcur1334/dl2-cgn/cgn_framework/mnists/experiments/gan_wildlife_MNIST/weights/ckp.pth', 'combined': True}\n",
      "Dataset already generated at /home/lcur1334/dl2-cgn/cgn_framework/mnists/data/wildlife_MNIST_gan.pth.\n",
      "Results for classifier already exist: mnists/experiments/classifier_wildlife_MNIST_gan_combined_seed_0/test_accs.pth\n",
      "::::: Experimental setup :::::\n",
      "Train generative model: False\n",
      "Generate data: True\n",
      "Args: {'seed': 0, 'dataset': 'wildlife_MNIST', 'weight_path': '/home/lcur1334/dl2-cgn/cgn_framework/mnists/experiments/cgn_wildlife_MNIST/weights/ckp.pth', 'combined': True}\n",
      "Dataset already generated at /home/lcur1334/dl2-cgn/cgn_framework/mnists/data/wildlife_MNIST_counterfactual.pth.\n",
      "Results for classifier already exist: mnists/experiments/classifier_wildlife_MNIST_counterfactual_combined_seed_0/test_accs.pth\n",
      "\n"
     ]
    }
   ],
   "source": [
    "# here, it is needed to pass `ignore_cache=False` since the results must be generated\n",
    "# from the previous step, thus you only need to run this as it is\n",
    "df = run_experiments(seed=0, show=False, ignore_cache=False)"
   ]
  },
  {
   "cell_type": "code",
   "execution_count": null,
   "id": "0f911c62-ddfd-4277-87d5-2ab60ef198a9",
   "metadata": {},
   "outputs": [],
   "source": [
    "df.index = [\"Original\", \"GAN\", \"CGN\", \"Original + GAN\", \"Original + CGN\"]"
   ]
  },
  {
   "cell_type": "code",
   "execution_count": null,
   "id": "28a6cc2d-f3bb-4aaf-8de7-ce232d7a90c4",
   "metadata": {},
   "outputs": [
    {
     "data": {
      "text/html": [
       "<div>\n",
       "<style scoped>\n",
       "    .dataframe tbody tr th:only-of-type {\n",
       "        vertical-align: middle;\n",
       "    }\n",
       "\n",
       "    .dataframe tbody tr th {\n",
       "        vertical-align: top;\n",
       "    }\n",
       "\n",
       "    .dataframe thead th {\n",
       "        text-align: right;\n",
       "    }\n",
       "</style>\n",
       "<table border=\"1\" class=\"dataframe\">\n",
       "  <thead>\n",
       "    <tr style=\"text-align: right;\">\n",
       "      <th></th>\n",
       "      <th>colored_MNIST-train</th>\n",
       "      <th>colored_MNIST-test</th>\n",
       "      <th>double_colored_MNIST-train</th>\n",
       "      <th>double_colored_MNIST-test</th>\n",
       "      <th>wildlife_MNIST-train</th>\n",
       "      <th>wildlife_MNIST-test</th>\n",
       "    </tr>\n",
       "  </thead>\n",
       "  <tbody>\n",
       "    <tr>\n",
       "      <th>Original</th>\n",
       "      <td>99.7</td>\n",
       "      <td>38.1</td>\n",
       "      <td>100.0</td>\n",
       "      <td>10.4</td>\n",
       "      <td>100.0</td>\n",
       "      <td>10.7</td>\n",
       "    </tr>\n",
       "    <tr>\n",
       "      <th>GAN</th>\n",
       "      <td>99.6</td>\n",
       "      <td>31.3</td>\n",
       "      <td>100.0</td>\n",
       "      <td>10.1</td>\n",
       "      <td>100.0</td>\n",
       "      <td>11.0</td>\n",
       "    </tr>\n",
       "    <tr>\n",
       "      <th>CGN</th>\n",
       "      <td>99.4</td>\n",
       "      <td>93.1</td>\n",
       "      <td>94.8</td>\n",
       "      <td>86.6</td>\n",
       "      <td>95.0</td>\n",
       "      <td>81.1</td>\n",
       "    </tr>\n",
       "    <tr>\n",
       "      <th>Original + GAN</th>\n",
       "      <td>99.6</td>\n",
       "      <td>39.5</td>\n",
       "      <td>100.0</td>\n",
       "      <td>10.5</td>\n",
       "      <td>100.0</td>\n",
       "      <td>10.9</td>\n",
       "    </tr>\n",
       "    <tr>\n",
       "      <th>Original + CGN</th>\n",
       "      <td>99.3</td>\n",
       "      <td>95.5</td>\n",
       "      <td>96.9</td>\n",
       "      <td>85.2</td>\n",
       "      <td>97.1</td>\n",
       "      <td>65.6</td>\n",
       "    </tr>\n",
       "  </tbody>\n",
       "</table>\n",
       "</div>"
      ],
      "text/plain": [
       "                colored_MNIST-train  colored_MNIST-test  \\\n",
       "Original                       99.7                38.1   \n",
       "GAN                            99.6                31.3   \n",
       "CGN                            99.4                93.1   \n",
       "Original + GAN                 99.6                39.5   \n",
       "Original + CGN                 99.3                95.5   \n",
       "\n",
       "                double_colored_MNIST-train  double_colored_MNIST-test  \\\n",
       "Original                             100.0                       10.4   \n",
       "GAN                                  100.0                       10.1   \n",
       "CGN                                   94.8                       86.6   \n",
       "Original + GAN                       100.0                       10.5   \n",
       "Original + CGN                        96.9                       85.2   \n",
       "\n",
       "                wildlife_MNIST-train  wildlife_MNIST-test  \n",
       "Original                       100.0                 10.7  \n",
       "GAN                            100.0                 11.0  \n",
       "CGN                             95.0                 81.1  \n",
       "Original + GAN                 100.0                 10.9  \n",
       "Original + CGN                  97.1                 65.6  "
      ]
     },
     "execution_count": 12,
     "metadata": {},
     "output_type": "execute_result"
    }
   ],
   "source": [
    "# show the results    \n",
    "df.astype(float).round(1)"
   ]
  },
  {
   "cell_type": "markdown",
   "id": "83c270f3-5aa7-4efb-aa2a-b2771708e906",
   "metadata": {},
   "source": [
    "#### Experiments on ImageNet-mini <a class=\"anchor\" id=\"repr-in-mini\"></a>\n",
    "\n",
    "* Relevant tables in the paper: Table 3 and 4"
   ]
  },
  {
   "cell_type": "markdown",
   "id": "6ccc35c9-4144-4835-af01-3773ef693a09",
   "metadata": {},
   "source": [
    "**Step 1**: Prepation - Run experiments on GPUs before visualizing results"
   ]
  },
  {
   "cell_type": "markdown",
   "id": "86417a73-9d8e-4eb0-adc1-83eaf5655767",
   "metadata": {},
   "source": [
    "**Running using cached models wherever necessary**\n",
    "\n",
    "Follow the instruction to run it on a GPU on a cluster. \n",
    "\n",
    "1. We have created a job script `run_imagenet.job`.\n",
    "    Please change it appropriately, if needed, to run on a GPU.\n",
    "\n",
    "2. Run the job script using \n",
    "\n",
    "    ```sh\n",
    "    cd /path/to/repo/experiments/\n",
    "    sbatch run_imagenet.job\n",
    "    ```\n",
    "    You can check logs in `slurm_output_*.out` files.\n",
    "\n",
    "3. After these steps are done, you can run the following cells that will display the result.\n",
    "\n",
    "> This step takes about 5 mins to run. Please let this step finish before running the cells.\n",
    "\n",
    "\n",
    "**Re-running without using any cached models.**\n",
    "\n",
    "The previous steps will generate CF data and load classification results from cache. If you want to run all these steps from scratch, you need to change `ignore_cache=True` and `generate_cf_data=True` in the following line in `experiments/imagenet_pipeline.py` and follow the same steps as above.\n",
    "\n",
    "```python\n",
    "metrics_clf, df_ood = run_experiments(seed=0, generate_cf_data=False, disp_epoch=34, ignore_cache=False)\n",
    "```\n",
    "\n",
    "> Note: This section involves generating counterfactual samples and training classifiers on IN-mini.\n",
    "> Generating CF samples can take about 3.5 hours and training the classifier about 2 hours on a GPU."
   ]
  },
  {
   "cell_type": "markdown",
   "id": "597d4b6d-a938-41f8-a6c3-bff51c985f7b",
   "metadata": {},
   "source": [
    "**Step 2**: Results for Table 3 and 4 from the paper"
   ]
  },
  {
   "cell_type": "code",
   "execution_count": null,
   "id": "edb0eb63-63d0-4be5-8b5c-9f551331f2c6",
   "metadata": {},
   "outputs": [],
   "source": [
    "from imagenet_pipeline import run_experiments"
   ]
  },
  {
   "cell_type": "code",
   "execution_count": null,
   "id": "0776f3a4-12ad-4724-8b94-3b19fe79ec73",
   "metadata": {},
   "outputs": [
    {
     "name": "stdout",
     "output_type": "stream",
     "text": [
      "Since generate_cf_data=False, skipping CF dataset generation.\n",
      "Loading results for classification and OOD experiments from cache.\n",
      "\n",
      "::::: Training classifier :::::\n",
      "\n",
      "::::: Classifier already trained, skipping :::::\n",
      "Loading results for epoch 34 from /home/lcur1334/dl2-cgn/cgn_framework/imagenet/experiments/classifier__in-mini-classifier/epochwise_metrics/epoch_34.pt\n",
      "\n",
      "::::: Evaluating OOD :::::\n",
      "\n",
      "::::: Running cgn-ensemble on in-mini...\n",
      "::: Result file /home/lcur1334/dl2-cgn/cgn_framework/imagenet/experiments/ood_eval/cgn-ensemble_in-mini/results_seed_0.json already exists & --ignore_cache=False\n",
      "::::: Running cgn-ensemble on in-a...\n",
      "::: Result file /home/lcur1334/dl2-cgn/cgn_framework/imagenet/experiments/ood_eval/cgn-ensemble_in-a/results_seed_0.json already exists & --ignore_cache=False\n",
      "::::: Running cgn-ensemble on in-stylized...\n",
      "::: Result file /home/lcur1334/dl2-cgn/cgn_framework/imagenet/experiments/ood_eval/cgn-ensemble_in-stylized/results_seed_0.json already exists & --ignore_cache=False\n",
      "::::: Running cgn-ensemble on in-sketch...\n",
      "::: Result file /home/lcur1334/dl2-cgn/cgn_framework/imagenet/experiments/ood_eval/cgn-ensemble_in-sketch/results_seed_0.json already exists & --ignore_cache=False\n",
      "::::: Running resnet50 on in-mini...\n",
      "::: Result file /home/lcur1334/dl2-cgn/cgn_framework/imagenet/experiments/ood_eval/resnet50_in-mini/results_seed_0.json already exists & --ignore_cache=False\n",
      "::::: Running resnet50 on in-a...\n",
      "::: Result file /home/lcur1334/dl2-cgn/cgn_framework/imagenet/experiments/ood_eval/resnet50-from-scratch_in-a/results_seed_0.json already exists & --ignore_cache=False\n",
      "::::: Running resnet50 on in-stylized...\n",
      "::: Result file /home/lcur1334/dl2-cgn/cgn_framework/imagenet/experiments/ood_eval/resnet50_in-stylized/results_seed_0.json already exists & --ignore_cache=False\n",
      "::::: Running resnet50 on in-sketch...\n",
      "::: Result file /home/lcur1334/dl2-cgn/cgn_framework/imagenet/experiments/ood_eval/resnet50_in-sketch/results_seed_0.json already exists & --ignore_cache=False\n"
     ]
    }
   ],
   "source": [
    "# temporarily showing results for 0th epoch\n",
    "metrics_clf, df_ood = run_experiments(seed=0, disp_epoch=34)"
   ]
  },
  {
   "cell_type": "code",
   "execution_count": null,
   "id": "173b59f3-a15d-4b28-b8a2-97a43fb468e3",
   "metadata": {},
   "outputs": [],
   "source": [
    "# construct Table 3 of the paper\n",
    "\n",
    "heads = [\"shape\", \"texture\", \"bg\"]\n",
    "table_3 = pd.DataFrame(\n",
    "    None,\n",
    "    columns=[\"Shape bias\", \"Top 1\", \"Top 5\"],\n",
    "    index=[f\"IN-mini + CGN/{h}\" for h in heads],\n",
    ")\n",
    "for i, h in enumerate(heads):\n",
    "    table_3.at[f\"IN-mini + CGN/{h}\", \"Shape bias\"] = metrics_clf[f\"shape_biases/{i}_m_{h}_bias\"]\n",
    "    table_3.at[f\"IN-mini + CGN/{h}\", \"Top 1\"] = metrics_clf[f\"acc1/1_real\"]\n",
    "    table_3.at[f\"IN-mini + CGN/{h}\", \"Top 5\"] = metrics_clf[f\"acc5/1_real\"]\n",
    "\n",
    "table_3[\"Shape bias\"] *= 100.0\n",
    "table_3 = table_3.astype(float).round(1)"
   ]
  },
  {
   "cell_type": "code",
   "execution_count": null,
   "id": "83de2efd-e746-4fb2-9d47-ed8c7557829c",
   "metadata": {},
   "outputs": [
    {
     "data": {
      "text/html": [
       "<div>\n",
       "<style scoped>\n",
       "    .dataframe tbody tr th:only-of-type {\n",
       "        vertical-align: middle;\n",
       "    }\n",
       "\n",
       "    .dataframe tbody tr th {\n",
       "        vertical-align: top;\n",
       "    }\n",
       "\n",
       "    .dataframe thead th {\n",
       "        text-align: right;\n",
       "    }\n",
       "</style>\n",
       "<table border=\"1\" class=\"dataframe\">\n",
       "  <thead>\n",
       "    <tr style=\"text-align: right;\">\n",
       "      <th></th>\n",
       "      <th>Shape bias</th>\n",
       "      <th>Top 1</th>\n",
       "      <th>Top 5</th>\n",
       "    </tr>\n",
       "  </thead>\n",
       "  <tbody>\n",
       "    <tr>\n",
       "      <th>IN-mini + CGN/shape</th>\n",
       "      <td>49.1</td>\n",
       "      <td>56.2</td>\n",
       "      <td>79.1</td>\n",
       "    </tr>\n",
       "    <tr>\n",
       "      <th>IN-mini + CGN/texture</th>\n",
       "      <td>20.5</td>\n",
       "      <td>56.2</td>\n",
       "      <td>79.1</td>\n",
       "    </tr>\n",
       "    <tr>\n",
       "      <th>IN-mini + CGN/bg</th>\n",
       "      <td>25.7</td>\n",
       "      <td>56.2</td>\n",
       "      <td>79.1</td>\n",
       "    </tr>\n",
       "  </tbody>\n",
       "</table>\n",
       "</div>"
      ],
      "text/plain": [
       "                       Shape bias  Top 1  Top 5\n",
       "IN-mini + CGN/shape          49.1   56.2   79.1\n",
       "IN-mini + CGN/texture        20.5   56.2   79.1\n",
       "IN-mini + CGN/bg             25.7   56.2   79.1"
      ]
     },
     "execution_count": 16,
     "metadata": {},
     "output_type": "execute_result"
    }
   ],
   "source": [
    "table_3"
   ]
  },
  {
   "cell_type": "code",
   "execution_count": null,
   "id": "0e2d19e4-1a76-4a06-bfe3-a5f46e88a4da",
   "metadata": {},
   "outputs": [],
   "source": [
    "# construct Table 4 of the paper\n",
    "table_4 = pd.DataFrame(\n",
    "    None,\n",
    "    columns=[\"IN-9\", \"Mixed-same\", \"Mixed-rand\", \"BG-gap\"],\n",
    "    index=[\"IN-mini + CGN\"],\n",
    ")\n",
    "\n",
    "col_to_key = {\n",
    "    \"IN-9\": \"in_9_acc1_original/shape_texture\",\n",
    "    \"Mixed-same\": \"in_9_acc1_mixed_same/shape_texture\",\n",
    "    \"Mixed-rand\": \"in_9_acc1_mixed_rand/shape_texture\",\n",
    "    \"BG-gap\": \"in_9_gaps/bg_gap\",\n",
    "}\n",
    "\n",
    "for c in table_4.columns:\n",
    "    assert col_to_key[c] in metrics_clf\n",
    "    key = col_to_key[c]\n",
    "    table_4.at[\"IN-mini + CGN\", c] = metrics_clf[key]\n",
    "\n",
    "table_4 = table_4.astype(float).round(1)"
   ]
  },
  {
   "cell_type": "code",
   "execution_count": null,
   "id": "9486cd7f-c6a2-4d0a-b9ab-4aec75d10633",
   "metadata": {},
   "outputs": [
    {
     "data": {
      "text/html": [
       "<div>\n",
       "<style scoped>\n",
       "    .dataframe tbody tr th:only-of-type {\n",
       "        vertical-align: middle;\n",
       "    }\n",
       "\n",
       "    .dataframe tbody tr th {\n",
       "        vertical-align: top;\n",
       "    }\n",
       "\n",
       "    .dataframe thead th {\n",
       "        text-align: right;\n",
       "    }\n",
       "</style>\n",
       "<table border=\"1\" class=\"dataframe\">\n",
       "  <thead>\n",
       "    <tr style=\"text-align: right;\">\n",
       "      <th></th>\n",
       "      <th>IN-9</th>\n",
       "      <th>Mixed-same</th>\n",
       "      <th>Mixed-rand</th>\n",
       "      <th>BG-gap</th>\n",
       "    </tr>\n",
       "  </thead>\n",
       "  <tbody>\n",
       "    <tr>\n",
       "      <th>IN-mini + CGN</th>\n",
       "      <td>86.8</td>\n",
       "      <td>73.2</td>\n",
       "      <td>68.3</td>\n",
       "      <td>4.9</td>\n",
       "    </tr>\n",
       "  </tbody>\n",
       "</table>\n",
       "</div>"
      ],
      "text/plain": [
       "               IN-9  Mixed-same  Mixed-rand  BG-gap\n",
       "IN-mini + CGN  86.8        73.2        68.3     4.9"
      ]
     },
     "execution_count": 18,
     "metadata": {},
     "output_type": "execute_result"
    }
   ],
   "source": [
    "table_4"
   ]
  },
  {
   "cell_type": "markdown",
   "id": "43c1d63c",
   "metadata": {},
   "source": [
    "### Loss ablation <a class=\"anchor\" id=\"loss-ablation\"></a>\n",
    "\n",
    "**Addressed Claim: Inductive Bias Requirements (IBR)**\n",
    "\n",
    "* Relevant section in the paper: `Evaluating loss ablation` within Section 4.1.\n",
    "* Relevant table in paper: Table 2"
   ]
  },
  {
   "cell_type": "code",
   "execution_count": null,
   "id": "c08480f8",
   "metadata": {},
   "outputs": [
    {
     "name": "stdout",
     "output_type": "stream",
     "text": [
      "for shape-ablation inception_score = (109.65711660626205, 2.3383855406694494) and mu_mask = 0.26194179433437603\n",
      "for text-ablation inception_score = (187.08312054049514, 1.0216010928361214) and mu_mask = 0.4107667627471965\n",
      "for bg-ablation inception_score = (210.33702797783855, 0.828793968409073) and mu_mask = 0.06363586789793407\n",
      "for rec-ablation inception_score = (17.172373577238293, 0.38844727562504033) and mu_mask = 0.3463172117804352\n"
     ]
    }
   ],
   "source": [
    "from ablation_study import run_experiments\n",
    "\n",
    "for loss_name, inception, avg_mask, sd_mask in run_experiments(ignore_cache=False):\n",
    "    print(f\"for {loss_name} inception_score = {inception} and mu_mask = {avg_mask}\")"
   ]
  },
  {
   "cell_type": "markdown",
   "id": "510c7c8a-11de-4aa2-8779-6e63d484dbfe",
   "metadata": {},
   "source": [
    "### Additional experiments and analyses <a class=\"anchor\" id=\"add-expts\"></a>"
   ]
  },
  {
   "cell_type": "markdown",
   "id": "f130a9b4-0d1b-4983-a235-59d5bb804764",
   "metadata": {},
   "source": [
    "#### Explainability analysis on MNISTs <a class=\"anchor\" id=\"expl-mnist\"></a>\n",
    "\n",
    "* Relevant sections in the paper: 4.2.2\n",
    "* Relevant figures in the paper: Figure 5 and 6"
   ]
  },
  {
   "cell_type": "code",
   "execution_count": null,
   "id": "2fd348db-e58d-4653-96e6-e325e8c7c885",
   "metadata": {},
   "outputs": [],
   "source": [
    "# from mnist_analysis import run_analyses"
   ]
  },
  {
   "cell_type": "code",
   "execution_count": null,
   "id": "23e4920d-234c-49bf-83ed-8fcaf42d3f20",
   "metadata": {
    "tags": []
   },
   "outputs": [],
   "source": [
    "# run_analyses(\n",
    "#     datasets=[\"colored_MNIST\", \"double_colored_MNIST\", \"wildlife_MNIST\"],\n",
    "#     debug=False,\n",
    "#     show=True,\n",
    "#     ignore_cache=False,\n",
    "# )"
   ]
  },
  {
   "cell_type": "markdown",
   "id": "2d8665a2-5361-4d44-94dd-45205ef4e9e9",
   "metadata": {},
   "source": [
    "#### Explainability analysis on ImageNet-mini <a class=\"anchor\" id=\"expl-in-mini\"></a>\n",
    "\n",
    "* Relevant figures in the paper: Figure 7"
   ]
  },
  {
   "cell_type": "code",
   "execution_count": null,
   "id": "5a0e5ff5-bad7-4c5d-9008-7ca455c949cc",
   "metadata": {},
   "outputs": [],
   "source": [
    "# from gradio_demo import init_gradio_module"
   ]
  },
  {
   "cell_type": "code",
   "execution_count": null,
   "id": "edcded5f-232c-4e85-9252-d3d84cdf8bad",
   "metadata": {},
   "outputs": [],
   "source": [
    "# cgn_gradio = init_gradio_module(launch=True, share=True)"
   ]
  },
  {
   "cell_type": "markdown",
   "id": "15260f61-863a-4f72-ba95-c23ee628dfa6",
   "metadata": {},
   "source": [
    "#### Robustness to out-of-distribution generalization <a class=\"anchor\" id=\"ood\"></a>\n",
    "\n",
    "* Relevant tables in the paper: Table 5"
   ]
  },
  {
   "cell_type": "code",
   "execution_count": null,
   "id": "4773c92e",
   "metadata": {},
   "outputs": [],
   "source": [
    "df_ood = df_ood.astype(float).round(2)"
   ]
  },
  {
   "cell_type": "code",
   "execution_count": null,
   "id": "ac064bbe-a579-43b2-b8f9-822df7057fbb",
   "metadata": {},
   "outputs": [
    {
     "data": {
      "text/html": [
       "<div>\n",
       "<style scoped>\n",
       "    .dataframe tbody tr th:only-of-type {\n",
       "        vertical-align: middle;\n",
       "    }\n",
       "\n",
       "    .dataframe tbody tr th {\n",
       "        vertical-align: top;\n",
       "    }\n",
       "\n",
       "    .dataframe thead th {\n",
       "        text-align: right;\n",
       "    }\n",
       "</style>\n",
       "<table border=\"1\" class=\"dataframe\">\n",
       "  <thead>\n",
       "    <tr style=\"text-align: right;\">\n",
       "      <th></th>\n",
       "      <th>in-mini</th>\n",
       "      <th>in-a</th>\n",
       "      <th>in-stylized</th>\n",
       "      <th>in-sketch</th>\n",
       "    </tr>\n",
       "  </thead>\n",
       "  <tbody>\n",
       "    <tr>\n",
       "      <th>cgn-ensemble</th>\n",
       "      <td>56.79</td>\n",
       "      <td>1.39</td>\n",
       "      <td>17.19</td>\n",
       "      <td>11.77</td>\n",
       "    </tr>\n",
       "    <tr>\n",
       "      <th>resnet50</th>\n",
       "      <td>75.58</td>\n",
       "      <td>3.40</td>\n",
       "      <td>19.22</td>\n",
       "      <td>24.09</td>\n",
       "    </tr>\n",
       "  </tbody>\n",
       "</table>\n",
       "</div>"
      ],
      "text/plain": [
       "              in-mini  in-a  in-stylized  in-sketch\n",
       "cgn-ensemble    56.79  1.39        17.19      11.77\n",
       "resnet50        75.58  3.40        19.22      24.09"
      ]
     },
     "execution_count": 25,
     "metadata": {},
     "output_type": "execute_result"
    }
   ],
   "source": [
    "df_ood"
   ]
  },
  {
   "cell_type": "markdown",
   "id": "804a5f2d-14db-46f1-aeb9-988fd74267a9",
   "metadata": {},
   "source": [
    "### Appendix"
   ]
  },
  {
   "cell_type": "markdown",
   "id": "1ea3d400-02d8-4926-809e-622598ce72a3",
   "metadata": {},
   "source": [
    "#### Ablation on number of counterfactuals"
   ]
  },
  {
   "cell_type": "code",
   "execution_count": null,
   "id": "dc56f87d",
   "metadata": {},
   "outputs": [],
   "source": [
    "# def plot_mnist_ablation_on_cfs(\n",
    "#         file,\n",
    "#         datasets=[\"colored_MNIST\", \"double_colored_MNIST\", \"wildlife_MNIST\"],\n",
    "#     ):\n",
    "#     CF_ratios = [1, 5, 10, 20]\n",
    "#     dataset_sizes = [10000, 100000, 1000000]\n",
    "\n",
    "#     with open(file, \"r\") as f:\n",
    "#         results = json.load(f)\n",
    "\n",
    "#     fig, axs = plt.subplots(1, 3, figsize=(16,5))\n",
    "#     plt.setp(axs, xticks=[0, 1, 2], xticklabels=[r'$10^4$', r'$10^5$', r'$10^6$'])\n",
    "\n",
    "#     for i, dataset in enumerate(datasets):\n",
    "#         for CF_ratio in CF_ratios:\n",
    "#             # Skip the CF_ratio of 20 for the colored MNIST dataset, as there are only 10 possible colors\n",
    "#             # per shape.\n",
    "#             if CF_ratio == 20 and dataset == \"colored_MNIST\":\n",
    "#                 continue\n",
    "\n",
    "#             line = []\n",
    "#             for size in dataset_sizes:\n",
    "#                 line.append(results[f\"{dataset}_counterfactual_{size}_{CF_ratio}\"])\n",
    "#             axs[i].plot(np.arange(3), line, label=f'CF ratio = {CF_ratio}', marker='o')\n",
    "#             axs[i].set_xlabel(\"Num Counterfactual Datapoints\")\n",
    "#             axs[i].set_ylabel(\"Test Accuracy (%)\")\n",
    "#             axs[i].grid(True)\n",
    "#             axs[i].legend()\n",
    "#         axs[i].set_title(datasets[i])\n",
    "\n",
    "#     plt.savefig('../media/figures/figure7_reproduced.pdf', bbox_inches='tight')\n",
    "#     plt.show()\n"
   ]
  },
  {
   "cell_type": "code",
   "execution_count": null,
   "id": "ba42a968-958e-4246-8a4b-aa031a5e0a0f",
   "metadata": {},
   "outputs": [
    {
     "ename": "",
     "evalue": "",
     "output_type": "error",
     "traceback": [
      "\u001b[1;31mThe Kernel crashed while executing code in the the current cell or a previous cell. Please review the code in the cell(s) to identify a possible cause of the failure. Click <a href='https://aka.ms/vscodeJupyterKernelCrash'>here</a> for more info. View Jupyter <a href='command:jupyter.viewOutput'>log</a> for further details."
     ]
    }
   ],
   "source": [
    "# results_path = \"../experiments/results/cache/mnist_ablation_on_cfs.json\"\n",
    "# plot_mnist_ablation_on_cfs(results_path)"
   ]
  },
  {
   "cell_type": "code",
   "execution_count": null,
   "id": "e17a3478",
   "metadata": {},
   "outputs": [],
   "source": []
  }
 ],
 "metadata": {
  "interpreter": {
   "hash": "7d28fd230918e024941f72fd9a5ff2bb0ca9d4bf408677d1aa8413c38ad123b1"
  },
  "kernelspec": {
   "display_name": "Python 3.9.7 ('cgn-cpu')",
   "language": "python",
   "name": "python3"
  },
  "language_info": {
   "codemirror_mode": {
    "name": "ipython",
    "version": 3
   },
   "file_extension": ".py",
   "mimetype": "text/x-python",
   "name": "python",
   "nbconvert_exporter": "python",
   "pygments_lexer": "ipython3",
   "version": "3.9.7"
  }
 },
 "nbformat": 4,
 "nbformat_minor": 5
}
